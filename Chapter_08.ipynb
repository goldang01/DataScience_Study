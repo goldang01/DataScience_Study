{
 "cells": [
  {
   "cell_type": "markdown",
   "id": "f6f7bfde",
   "metadata": {},
   "source": [
    "<center>\n",
    "<img src=\"https://image.aladin.co.kr/product/12609/37/cover500/k372532974_1.jpg\" width=\"200\" height=\"200\"><br>\n",
    "</center>\n",
    "\n",
    "\n",
    " - Github: [PinkWink](https://github.com/PinkWink/DataScience)"
   ]
  },
  {
   "cell_type": "markdown",
   "id": "000d0557",
   "metadata": {},
   "source": [
    "### 8장 자연어 처리 시작하기\n",
    "\n",
    "- 한글 자연어 처리기초\n",
    "- 워드 클라우드\n",
    "- 육아휴직 관련 법안에 대한 분석\n",
    "- Naive Bayes Classifier의 이해 - 영문\n",
    "- Naive Bayes Classifier의 이해 - 한글\n",
    "- 문장의 유사도 측정하기\n",
    "- 여자친구 선물 고르기\n"
   ]
  },
  {
   "cell_type": "markdown",
   "id": "a4471713",
   "metadata": {},
   "source": [
    "#### 8-2 한글 자연어 처리 기초\n",
    "\n"
   ]
  },
  {
   "cell_type": "code",
   "execution_count": 49,
   "id": "0bd2112b",
   "metadata": {},
   "outputs": [],
   "source": [
    "from konlpy.tag import Kkma\n",
    "kkma = Kkma()"
   ]
  },
  {
   "cell_type": "markdown",
   "id": "bf1fdede",
   "metadata": {},
   "source": [
    "먼저 꼬꼬마 모듈을 사용할 수 있게 한다."
   ]
  },
  {
   "cell_type": "code",
   "execution_count": 2,
   "id": "3740f5b7",
   "metadata": {},
   "outputs": [
    {
     "data": {
      "text/plain": [
       "['한국어 분석을 시작합니다', '재미있어요~~']"
      ]
     },
     "execution_count": 2,
     "metadata": {},
     "output_type": "execute_result"
    }
   ],
   "source": [
    "kkma.sentences('한국어 분석을 시작합니다 재미있어요~~')"
   ]
  },
  {
   "cell_type": "markdown",
   "id": "e1104fa9",
   "metadata": {},
   "source": [
    "그리고 문장(sentences)분석을 한다. ~~시작합니다 재미있어요 ~~ 에서 마침표(.)가 없어도 두 개의 문장으로 구분한다."
   ]
  },
  {
   "cell_type": "code",
   "execution_count": 3,
   "id": "c95a5c8d",
   "metadata": {},
   "outputs": [
    {
     "data": {
      "text/plain": [
       "['한국어', '분석']"
      ]
     },
     "execution_count": 3,
     "metadata": {},
     "output_type": "execute_result"
    }
   ],
   "source": [
    "kkma.nouns('한국어 분석을 시작합니다 재미있어요~~')"
   ]
  },
  {
   "cell_type": "markdown",
   "id": "ec1917af",
   "metadata": {},
   "source": [
    "명사(nouns)분석도 수행합니다."
   ]
  },
  {
   "cell_type": "code",
   "execution_count": 4,
   "id": "e19a90f9",
   "metadata": {},
   "outputs": [
    {
     "data": {
      "text/plain": [
       "[('한국어', 'NNG'),\n",
       " ('분석', 'NNG'),\n",
       " ('을', 'JKO'),\n",
       " ('시작하', 'VV'),\n",
       " ('ㅂ니다', 'EFN'),\n",
       " ('재미있', 'VA'),\n",
       " ('어요', 'EFN'),\n",
       " ('~~', 'SW')]"
      ]
     },
     "execution_count": 4,
     "metadata": {},
     "output_type": "execute_result"
    }
   ],
   "source": [
    "kkma.pos('한국어 분석을 시작합니다 재미있어요~~')"
   ]
  },
  {
   "cell_type": "markdown",
   "id": "b060bc0f",
   "metadata": {},
   "source": [
    "현태소(pos)분석도 수행합니다. 한글은 영어와 달리 단어의 형태 변화가 많아서 영어처럼 쉽게 접근하기 어렵다. 그래서 최소한의 의미 단위인 현태소로 언어를 분석하는 것이 일반적이다."
   ]
  },
  {
   "cell_type": "code",
   "execution_count": 5,
   "id": "82b6086d",
   "metadata": {},
   "outputs": [],
   "source": [
    "from konlpy.tag import Hannanum\n",
    "hannanum = Hannanum()"
   ]
  },
  {
   "cell_type": "markdown",
   "id": "af9a0467",
   "metadata": {},
   "source": [
    "이번에는 한나눔(Hannanum)을 사용해 보겠다."
   ]
  },
  {
   "cell_type": "code",
   "execution_count": 6,
   "id": "09c0ee3c",
   "metadata": {},
   "outputs": [
    {
     "data": {
      "text/plain": [
       "['한국어', '분석', '시작']"
      ]
     },
     "execution_count": 6,
     "metadata": {},
     "output_type": "execute_result"
    }
   ],
   "source": [
    "hannanum.nouns('한국어 분석을 시작합니다 재미있어요~~')"
   ]
  },
  {
   "cell_type": "markdown",
   "id": "c00445aa",
   "metadata": {},
   "source": [
    "한나눔의 명사 분석은 꼬꼬마와는 약간 다른 결과를 가져온다."
   ]
  },
  {
   "cell_type": "code",
   "execution_count": 7,
   "id": "9aa02dcf",
   "metadata": {},
   "outputs": [
    {
     "data": {
      "text/plain": [
       "['한국어', '분석', '을', '시작', '하', 'ㅂ니다', '재미있', '어요', '~~']"
      ]
     },
     "execution_count": 7,
     "metadata": {},
     "output_type": "execute_result"
    }
   ],
   "source": [
    "hannanum.morphs('한국어 분석을 시작합니다 재미있어요~~')"
   ]
  },
  {
   "cell_type": "markdown",
   "id": "5c64dbcc",
   "metadata": {},
   "source": [
    "한나눔의 형태소 분석 결과 이다."
   ]
  },
  {
   "cell_type": "code",
   "execution_count": 8,
   "id": "55eb9732",
   "metadata": {},
   "outputs": [
    {
     "data": {
      "text/plain": [
       "[('한국어', 'N'),\n",
       " ('분석', 'N'),\n",
       " ('을', 'J'),\n",
       " ('시작', 'N'),\n",
       " ('하', 'X'),\n",
       " ('ㅂ니다', 'E'),\n",
       " ('재미있', 'P'),\n",
       " ('어요', 'E'),\n",
       " ('~~', 'S')]"
      ]
     },
     "execution_count": 8,
     "metadata": {},
     "output_type": "execute_result"
    }
   ],
   "source": [
    "hannanum.pos('한국어 분석을 시작합니다 재미있어요~~')"
   ]
  },
  {
   "cell_type": "markdown",
   "id": "202a302b",
   "metadata": {},
   "source": [
    "이번에는 트위터(Twitter) 분석이다."
   ]
  },
  {
   "cell_type": "code",
   "execution_count": 9,
   "id": "cb90807c",
   "metadata": {},
   "outputs": [
    {
     "name": "stderr",
     "output_type": "stream",
     "text": [
      "/home/ubuntu/.local/lib/python3.6/site-packages/konlpy/tag/_okt.py:16: UserWarning: \"Twitter\" has changed to \"Okt\" since KoNLPy v0.4.5.\n",
      "  warn('\"Twitter\" has changed to \"Okt\" since KoNLPy v0.4.5.')\n"
     ]
    }
   ],
   "source": [
    "from konlpy.tag import Twitter\n",
    "t = Twitter()"
   ]
  },
  {
   "cell_type": "code",
   "execution_count": 10,
   "id": "18067a6b",
   "metadata": {},
   "outputs": [
    {
     "data": {
      "text/plain": [
       "['한국어', '분석', '시작']"
      ]
     },
     "execution_count": 10,
     "metadata": {},
     "output_type": "execute_result"
    }
   ],
   "source": [
    "t.nouns('한국어 분석을 시작합니다 재미있어요~~')"
   ]
  },
  {
   "cell_type": "code",
   "execution_count": 11,
   "id": "8542f0b6",
   "metadata": {},
   "outputs": [
    {
     "data": {
      "text/plain": [
       "['한국어', '분석', '을', '시작', '합니다', '재미있어요', '~~']"
      ]
     },
     "execution_count": 11,
     "metadata": {},
     "output_type": "execute_result"
    }
   ],
   "source": [
    "t.morphs('한국어 분석을 시작합니다 재미있어요~~')"
   ]
  },
  {
   "cell_type": "markdown",
   "id": "506c3c62",
   "metadata": {},
   "source": [
    "역시 미세한 차이를 가지고 있다."
   ]
  },
  {
   "cell_type": "code",
   "execution_count": 12,
   "id": "73545357",
   "metadata": {},
   "outputs": [
    {
     "data": {
      "text/plain": [
       "[('한국어', 'Noun'),\n",
       " ('분석', 'Noun'),\n",
       " ('을', 'Josa'),\n",
       " ('시작', 'Noun'),\n",
       " ('합니다', 'Verb'),\n",
       " ('재미있어요', 'Adjective'),\n",
       " ('~~', 'Punctuation')]"
      ]
     },
     "execution_count": 12,
     "metadata": {},
     "output_type": "execute_result"
    }
   ],
   "source": [
    "t.pos('한국어 분석을 시작합니다 재미있어요~~')"
   ]
  },
  {
   "cell_type": "markdown",
   "id": "929b0506",
   "metadata": {},
   "source": [
    "### 8-3 워드 클라우드\n",
    "\n",
    "워드 클라우드(world cloud)는 자주 나타나는 단어를 크게 보여줌으로써 직관적으로 텍스트를 알리는데 도움을 준다. 파이썬에서 사용할 수 있는 워드 클라우드도 몇가지 있습니다만 여기서는 그중 하나를 소개할까 한다. 설치는 이미 8-1절에서 했으니 워드 클라우드 공식 Github에서 배포하는 튜토리얼을 일부 수정한 것을 우리도 튜토리얼하고 다음 절로 넘어가도록 하겠다."
   ]
  },
  {
   "cell_type": "code",
   "execution_count": 13,
   "id": "76a9c5cc",
   "metadata": {},
   "outputs": [],
   "source": [
    "#!pip3 install wordcloud"
   ]
  },
  {
   "cell_type": "code",
   "execution_count": 14,
   "id": "193276ad",
   "metadata": {},
   "outputs": [],
   "source": [
    "from wordcloud import WordCloud, STOPWORDS\n",
    "import numpy as np\n",
    "from PIL import Image"
   ]
  },
  {
   "cell_type": "markdown",
   "id": "43ce7a92",
   "metadata": {},
   "source": [
    "먼저 필요한 몇몇 모듈을 import 한다. 그리고 이상한 나라의 앨리스 영문 버전을 다운 받아서 data폴더에 저장하고 읽는다. 또한 앨리그 그림도 저장하자."
   ]
  },
  {
   "cell_type": "code",
   "execution_count": 15,
   "id": "15c15aab",
   "metadata": {},
   "outputs": [],
   "source": [
    "text = open('./data/09. alice.txt').read()\n",
    "alice_mask = np.array(Image.open('./data/09. alice_mask.png'))\n",
    "\n",
    "stopwords = set(STOPWORDS)\n",
    "stopwords.add(\"said\")"
   ]
  },
  {
   "cell_type": "markdown",
   "id": "361e79cc",
   "metadata": {},
   "source": [
    "앨리스 소설에는 said 라는 단어가 많이 등장하는 모양이다. 이 단어는 카운트에서 제거하도록 하자."
   ]
  },
  {
   "cell_type": "code",
   "execution_count": 16,
   "id": "92324f94",
   "metadata": {},
   "outputs": [
    {
     "name": "stdout",
     "output_type": "stream",
     "text": [
      "Unknown system... sorry~~~~\n"
     ]
    }
   ],
   "source": [
    "import matplotlib.pyplot as plt\n",
    "import platform\n",
    "\n",
    "path = \"c:/Windows/Fonts/malgun.ttf\"\n",
    "from matplotlib import font_manager, rc\n",
    "if platform.system() == 'Darwin':\n",
    "    re('font', family='AppleGothic')\n",
    "elif platform.system() == 'Windows':\n",
    "    font_name = font_manager.FontProperties(fname=path).get_name()\n",
    "    rc('font', family = font_name)\n",
    "else:\n",
    "    print('Unknown system... sorry~~~~')\n",
    "        \n",
    "%matplotlib inline"
   ]
  },
  {
   "cell_type": "markdown",
   "id": "d4a171d2",
   "metadata": {},
   "source": [
    "언제나 하는 matplotlib에서 한글 폰트를 설정했다."
   ]
  },
  {
   "cell_type": "code",
   "execution_count": 17,
   "id": "69851618",
   "metadata": {},
   "outputs": [
    {
     "data": {
      "image/png": "[encoded data removed]",
      "text/plain": [
       "<Figure size 576x576 with 1 Axes>"
      ]
     },
     "metadata": {
      "needs_background": "light"
     },
     "output_type": "display_data"
    }
   ],
   "source": [
    "plt.figure(figsize=(8,8))\n",
    "plt.imshow(alice_mask, cmap=plt.cm.gray, interpolation='bilinear')\n",
    "plt.axis('off')\n",
    "plt.show()"
   ]
  },
  {
   "cell_type": "markdown",
   "id": "dfe61b00",
   "metadata": {},
   "source": [
    "이제 문서 자체에서 단어를 카운트하는 기능을 워드 클라우드가 제공하니 그것을 사용해서 최빈 단어를 찾자."
   ]
  },
  {
   "cell_type": "code",
   "execution_count": 18,
   "id": "11e109b9",
   "metadata": {},
   "outputs": [
    {
     "data": {
      "text/plain": [
       "{'Alice': 1.0,\n",
       " 'little': 0.29508196721311475,\n",
       " 'one': 0.27595628415300544,\n",
       " 'know': 0.2459016393442623,\n",
       " 'went': 0.226775956284153,\n",
       " 'thing': 0.2185792349726776,\n",
       " 'time': 0.2103825136612022,\n",
       " 'Queen': 0.20765027322404372,\n",
       " 'see': 0.1830601092896175,\n",
       " 'King': 0.17486338797814208,\n",
       " 'well': 0.1721311475409836,\n",
       " 'now': 0.16393442622950818,\n",
       " 'head': 0.16393442622950818,\n",
       " 'began': 0.15846994535519127,\n",
       " 'way': 0.1557377049180328,\n",
       " 'Hatter': 0.1557377049180328,\n",
       " 'Mock Turtle': 0.15300546448087432,\n",
       " 'say': 0.15027322404371585,\n",
       " 'Gryphon': 0.15027322404371585,\n",
       " 'think': 0.1448087431693989,\n",
       " 'quite': 0.14207650273224043,\n",
       " 'much': 0.13934426229508196,\n",
       " 'first': 0.13934426229508196,\n",
       " 'thought': 0.1366120218579235,\n",
       " 'go': 0.1366120218579235,\n",
       " 'come': 0.13114754098360656,\n",
       " 'never': 0.1284153005464481,\n",
       " 'voice': 0.12568306010928962,\n",
       " 'looked': 0.12295081967213115,\n",
       " 'got': 0.12295081967213115,\n",
       " 'must': 0.12021857923497267,\n",
       " 'Cat': 0.12021857923497267,\n",
       " 'Duchess': 0.11475409836065574,\n",
       " 'Mouse': 0.11202185792349727,\n",
       " 'round': 0.11202185792349727,\n",
       " 'back': 0.1092896174863388,\n",
       " 'two': 0.1092896174863388,\n",
       " 'Dormouse': 0.1092896174863388,\n",
       " 'make': 0.10382513661202186,\n",
       " 'Oh': 0.10109289617486339,\n",
       " 'tone': 0.10109289617486339,\n",
       " 'eye': 0.09836065573770492,\n",
       " 'came': 0.09562841530054644,\n",
       " 'last': 0.09289617486338798,\n",
       " 'nothing': 0.09289617486338798,\n",
       " 'tell': 0.09289617486338798,\n",
       " 'day': 0.09016393442622951,\n",
       " 'large': 0.09016393442622951,\n",
       " 'great': 0.09016393442622951,\n",
       " 'hand': 0.09016393442622951,\n",
       " 'found': 0.08743169398907104,\n",
       " 'long': 0.08743169398907104,\n",
       " 'door': 0.08743169398907104,\n",
       " 'minute': 0.08743169398907104,\n",
       " 'looking': 0.08743169398907104,\n",
       " 'put': 0.08469945355191257,\n",
       " 'word': 0.08469945355191257,\n",
       " 'March Hare': 0.08469945355191257,\n",
       " 'made': 0.08196721311475409,\n",
       " 'heard': 0.08196721311475409,\n",
       " 'look': 0.07923497267759563,\n",
       " 'will': 0.07923497267759563,\n",
       " 'replied': 0.07923497267759563,\n",
       " 'might': 0.07650273224043716,\n",
       " 'Caterpillar': 0.07650273224043716,\n",
       " 'seemed': 0.07377049180327869,\n",
       " 'going': 0.07377049180327869,\n",
       " 'right': 0.07377049180327869,\n",
       " 'away': 0.07103825136612021,\n",
       " 'without': 0.07103825136612021,\n",
       " 'moment': 0.07103825136612021,\n",
       " 'course': 0.07103825136612021,\n",
       " 'thought Alice': 0.07103825136612021,\n",
       " 'Rabbit': 0.06830601092896176,\n",
       " 'next': 0.06830601092896176,\n",
       " 'rather': 0.06830601092896176,\n",
       " 'soon': 0.06830601092896176,\n",
       " 'yet': 0.06830601092896176,\n",
       " 'dear': 0.06557377049180328,\n",
       " 'took': 0.06557377049180328,\n",
       " 'take': 0.06557377049180328,\n",
       " 'sure': 0.06557377049180328,\n",
       " 'sort': 0.06284153005464481,\n",
       " 'felt': 0.06284153005464481,\n",
       " 'added': 0.06284153005464481,\n",
       " 'getting': 0.060109289617486336,\n",
       " 'Let': 0.060109289617486336,\n",
       " 'three': 0.060109289617486336,\n",
       " 'find': 0.060109289617486336,\n",
       " 'White Rabbit': 0.060109289617486336,\n",
       " 'upon': 0.05737704918032787,\n",
       " 'wish': 0.05737704918032787,\n",
       " 'question': 0.05737704918032787,\n",
       " 'side': 0.05737704918032787,\n",
       " 'till': 0.05737704918032787,\n",
       " 'arm': 0.05737704918032787,\n",
       " 'use': 0.0546448087431694,\n",
       " 'anything': 0.0546448087431694,\n",
       " 'end': 0.0546448087431694,\n",
       " 'good': 0.0546448087431694,\n",
       " 'please': 0.0546448087431694,\n",
       " 'half': 0.0546448087431694,\n",
       " 'face': 0.0546448087431694,\n",
       " 'cried': 0.0546448087431694,\n",
       " 'tried': 0.05191256830601093,\n",
       " 'even': 0.05191256830601093,\n",
       " 'house': 0.05191256830601093,\n",
       " 'tea': 0.05191256830601093,\n",
       " 'eat': 0.05191256830601093,\n",
       " 'curious': 0.05191256830601093,\n",
       " 'wonder': 0.04918032786885246,\n",
       " 'table': 0.04918032786885246,\n",
       " 'enough': 0.04918032786885246,\n",
       " 'something': 0.04918032786885246,\n",
       " 'jury': 0.04918032786885246,\n",
       " 'court': 0.04918032786885246,\n",
       " 'another': 0.04644808743169399,\n",
       " 'spoke': 0.04644808743169399,\n",
       " 'perhaps': 0.04644808743169399,\n",
       " 'talking': 0.04644808743169399,\n",
       " 'begin': 0.04644808743169399,\n",
       " 'sat': 0.04644808743169399,\n",
       " 'asked': 0.04644808743169399,\n",
       " 'Bill': 0.04644808743169399,\n",
       " 'ran': 0.04371584699453552,\n",
       " 'air': 0.04371584699453552,\n",
       " 'bit': 0.04371584699453552,\n",
       " 'turned': 0.04371584699453552,\n",
       " 'garden': 0.04371584699453552,\n",
       " 'indeed': 0.04371584699453552,\n",
       " 'hastily': 0.04371584699453552,\n",
       " 'change': 0.04371584699453552,\n",
       " 'seen': 0.040983606557377046,\n",
       " 'idea': 0.040983606557377046,\n",
       " 'saying': 0.040983606557377046,\n",
       " 'low': 0.040983606557377046,\n",
       " 'leave': 0.040983606557377046,\n",
       " 'gave': 0.040983606557377046,\n",
       " 'speak': 0.040983606557377046,\n",
       " 'done': 0.040983606557377046,\n",
       " 'called': 0.040983606557377046,\n",
       " 'mean': 0.040983606557377046,\n",
       " 'mad': 0.040983606557377046,\n",
       " 'may': 0.03825136612021858,\n",
       " 'beginning': 0.03825136612021858,\n",
       " 'hear': 0.03825136612021858,\n",
       " 'feet': 0.03825136612021858,\n",
       " 'saw': 0.03825136612021858,\n",
       " 'remember': 0.03825136612021858,\n",
       " 'trying': 0.03825136612021858,\n",
       " 'certainly': 0.03825136612021858,\n",
       " 'game': 0.03825136612021858,\n",
       " 'left': 0.03825136612021858,\n",
       " 'anxiously': 0.03825136612021858,\n",
       " 'set': 0.03825136612021858,\n",
       " 'everything': 0.03825136612021858,\n",
       " 'knew': 0.03825136612021858,\n",
       " 'sea': 0.03825136612021858,\n",
       " 'suppose': 0.03825136612021858,\n",
       " 'talk': 0.03825136612021858,\n",
       " 'us': 0.03825136612021858,\n",
       " 'Ye': 0.03825136612021858,\n",
       " 'mouth': 0.03825136612021858,\n",
       " 'turn': 0.03825136612021858,\n",
       " 'Footman': 0.03825136612021858,\n",
       " 'baby': 0.03825136612021858,\n",
       " 'creature': 0.03825136612021858,\n",
       " 'give': 0.03551912568306011,\n",
       " 'book': 0.03551912568306011,\n",
       " 'suddenly': 0.03551912568306011,\n",
       " 'close': 0.03551912568306011,\n",
       " 'happen': 0.03551912568306011,\n",
       " 'still': 0.03551912568306011,\n",
       " 'seem': 0.03551912568306011,\n",
       " 'people': 0.03551912568306011,\n",
       " 'behind': 0.03551912568306011,\n",
       " 'really': 0.03551912568306011,\n",
       " 'grow': 0.03551912568306011,\n",
       " 'far': 0.03551912568306011,\n",
       " 'kept': 0.03551912568306011,\n",
       " 'used': 0.03551912568306011,\n",
       " 'lesson': 0.03551912568306011,\n",
       " 'always': 0.03551912568306011,\n",
       " 'Dodo': 0.03551912568306011,\n",
       " 'whole': 0.03551912568306011,\n",
       " 'better': 0.03551912568306011,\n",
       " 'room': 0.03551912568306011,\n",
       " 'gone': 0.03551912568306011,\n",
       " 'remark': 0.03551912568306011,\n",
       " 'cook': 0.03551912568306011,\n",
       " 'Adventures': 0.03278688524590164,\n",
       " 'CHAPTER': 0.03278688524590164,\n",
       " 'many': 0.03278688524590164,\n",
       " 'near': 0.03278688524590164,\n",
       " 'among': 0.03278688524590164,\n",
       " 'name': 0.03278688524590164,\n",
       " 'Dinah': 0.03278688524590164,\n",
       " 'afraid': 0.03278688524590164,\n",
       " 'every': 0.03278688524590164,\n",
       " 'finished': 0.03278688524590164,\n",
       " 'best': 0.03278688524590164,\n",
       " 'hardly': 0.03278688524590164,\n",
       " 'life': 0.03278688524590164,\n",
       " 'queer': 0.03278688524590164,\n",
       " 'try': 0.03278688524590164,\n",
       " 'tail': 0.03278688524590164,\n",
       " 'live': 0.03278688524590164,\n",
       " 'old': 0.03278688524590164,\n",
       " 'turning': 0.03278688524590164,\n",
       " 'bird': 0.03278688524590164,\n",
       " 'serpent': 0.03278688524590164,\n",
       " 'Pigeon': 0.03278688524590164,\n",
       " 'tree': 0.03278688524590164,\n",
       " 'Majesty': 0.03278688524590164,\n",
       " 'sister': 0.030054644808743168,\n",
       " 'conversation': 0.030054644808743168,\n",
       " 'mind': 0.030054644808743168,\n",
       " 'whether': 0.030054644808743168,\n",
       " 'hurried': 0.030054644808743168,\n",
       " 'though': 0.030054644808743168,\n",
       " 'glad': 0.030054644808743168,\n",
       " 'ask': 0.030054644808743168,\n",
       " 'matter': 0.030054644808743168,\n",
       " 'read': 0.030054644808743168,\n",
       " 'waited': 0.030054644808743168,\n",
       " 'tears': 0.030054644808743168,\n",
       " 'child': 0.030054644808743168,\n",
       " 'growing': 0.030054644808743168,\n",
       " 'pool': 0.030054644808743168,\n",
       " 'want': 0.030054644808743168,\n",
       " 'thinking': 0.030054644808743168,\n",
       " 'nearly': 0.030054644808743168,\n",
       " 'silence': 0.030054644808743168,\n",
       " 'trial': 0.030054644808743168,\n",
       " 'slate': 0.030054644808743168,\n",
       " 'keep': 0.030054644808743168,\n",
       " 'pig': 0.030054644808743168,\n",
       " 'ear': 0.030054644808743168,\n",
       " 'soldier': 0.030054644808743168,\n",
       " 'poor Alice': 0.030054644808743168,\n",
       " 'sitting': 0.0273224043715847,\n",
       " 'either': 0.0273224043715847,\n",
       " 'answer': 0.0273224043715847,\n",
       " 'sight': 0.0273224043715847,\n",
       " 'walked': 0.0273224043715847,\n",
       " 'small': 0.0273224043715847,\n",
       " 'opened': 0.0273224043715847,\n",
       " 'bottle': 0.0273224043715847,\n",
       " 'children': 0.0273224043715847,\n",
       " 'hold': 0.0273224043715847,\n",
       " 'foot': 0.0273224043715847,\n",
       " 'fan': 0.0273224043715847,\n",
       " 'mine': 0.0273224043715847,\n",
       " 'party': 0.0273224043715847,\n",
       " 'explain': 0.0273224043715847,\n",
       " 'rest': 0.0273224043715847,\n",
       " 'reason': 0.0273224043715847,\n",
       " 'place': 0.0273224043715847,\n",
       " 'repeated': 0.0273224043715847,\n",
       " 'remarked': 0.0273224043715847,\n",
       " 'Soup': 0.0273224043715847,\n",
       " 'hedgehog': 0.0273224043715847,\n",
       " 'Heart': 0.0273224043715847,\n",
       " 'lobster': 0.0273224043715847,\n",
       " 'coming': 0.02459016393442623,\n",
       " 'top': 0.02459016393442623,\n",
       " 'hall': 0.02459016393442623,\n",
       " 'rate': 0.02459016393442623,\n",
       " 'waiting': 0.02459016393442623,\n",
       " 'feeling': 0.02459016393442623,\n",
       " 'size': 0.02459016393442623,\n",
       " 'work': 0.02459016393442623,\n",
       " 'help': 0.02459016393442623,\n",
       " 'different': 0.02459016393442623,\n",
       " 'sit': 0.02459016393442623,\n",
       " 'continued': 0.02459016393442623,\n",
       " 'believe': 0.02459016393442623,\n",
       " 'piece': 0.02459016393442623,\n",
       " 'call': 0.02459016393442623,\n",
       " 'angrily': 0.02459016393442623,\n",
       " 'shook': 0.02459016393442623,\n",
       " 'least': 0.02459016393442623,\n",
       " 'together': 0.02459016393442623,\n",
       " 'shouted': 0.02459016393442623,\n",
       " 'timidly': 0.02459016393442623,\n",
       " 'puzzled': 0.02459016393442623,\n",
       " 'butter': 0.02459016393442623,\n",
       " 'interrupted': 0.02459016393442623,\n",
       " 'Knave': 0.02459016393442623,\n",
       " 'moral': 0.02459016393442623,\n",
       " 'dance': 0.02459016393442623,\n",
       " 'join': 0.02459016393442623,\n",
       " 'poor little': 0.02459016393442623,\n",
       " 'Wonderland': 0.02185792349726776,\n",
       " 'feel': 0.02185792349726776,\n",
       " 'making': 0.02185792349726776,\n",
       " 'watch': 0.02185792349726776,\n",
       " 'slowly': 0.02185792349726776,\n",
       " 'noticed': 0.02185792349726776,\n",
       " 'four': 0.02185792349726776,\n",
       " 'opportunity': 0.02185792349726776,\n",
       " 'distance': 0.02185792349726776,\n",
       " \"it'll\": 0.02185792349726776,\n",
       " 'sound': 0.02185792349726776,\n",
       " 'dry': 0.02185792349726776,\n",
       " 'bright': 0.02185792349726776,\n",
       " 'fact': 0.02185792349726776,\n",
       " 'tart': 0.02185792349726776,\n",
       " 'followed': 0.02185792349726776,\n",
       " 'lying': 0.02185792349726776,\n",
       " 'ready': 0.02185792349726776,\n",
       " 'hard': 0.02185792349726776,\n",
       " 'changed': 0.02185792349726776,\n",
       " 'Five': 0.02185792349726776,\n",
       " 'beg': 0.02185792349726776,\n",
       " 'eagerly': 0.02185792349726776,\n",
       " 'meaning': 0.02185792349726776,\n",
       " 'running': 0.02185792349726776,\n",
       " 'everybody': 0.02185792349726776,\n",
       " 'exactly': 0.02185792349726776,\n",
       " 'story': 0.02185792349726776,\n",
       " 'nobody': 0.02185792349726776,\n",
       " 'direction': 0.02185792349726776,\n",
       " 'window': 0.02185792349726776,\n",
       " 'appeared': 0.02185792349726776,\n",
       " 'wood': 0.02185792349726776,\n",
       " 'mushroom': 0.02185792349726776,\n",
       " 'pepper': 0.02185792349726776,\n",
       " 'fish': 0.02185792349726776,\n",
       " 'verse': 0.02185792349726776,\n",
       " 'shoulder': 0.02185792349726776,\n",
       " 'rule': 0.02185792349726776,\n",
       " 'whiting': 0.02185792349726776,\n",
       " 'Oh dear': 0.02185792349726776,\n",
       " 'beautiful Soup': 0.02185792349726776,\n",
       " 'almost': 0.01912568306010929,\n",
       " 'English': 0.01912568306010929,\n",
       " 'tired': 0.01912568306010929,\n",
       " 'hot': 0.01912568306010929,\n",
       " 'world': 0.01912568306010929,\n",
       " 'deep': 0.01912568306010929,\n",
       " 'somebody': 0.01912568306010929,\n",
       " 'fall': 0.01912568306010929,\n",
       " 'listen': 0.01912568306010929,\n",
       " 'fancy': 0.01912568306010929,\n",
       " 'manage': 0.01912568306010929,\n",
       " 'bat': 0.01912568306010929,\n",
       " 'begun': 0.01912568306010929,\n",
       " 'dream': 0.01912568306010929,\n",
       " 'middle': 0.01912568306010929,\n",
       " 'wondering': 0.01912568306010929,\n",
       " 'glass': 0.01912568306010929,\n",
       " 'open': 0.01912568306010929,\n",
       " 'high': 0.01912568306010929,\n",
       " 'larger': 0.01912568306010929,\n",
       " 'poor': 0.01912568306010929,\n",
       " 'happened': 0.01912568306010929,\n",
       " 'neck': 0.01912568306010929,\n",
       " 'drink': 0.01912568306010929,\n",
       " 'generally': 0.01912568306010929,\n",
       " 'surprised': 0.01912568306010929,\n",
       " 'shoes': 0.01912568306010929,\n",
       " 'kind': 0.01912568306010929,\n",
       " 'nonsense': 0.01912568306010929,\n",
       " 'hair': 0.01912568306010929,\n",
       " 'goes': 0.01912568306010929,\n",
       " 'repeat': 0.01912568306010929,\n",
       " 'grin': 0.01912568306010929,\n",
       " 'learn': 0.01912568306010929,\n",
       " 'frightened': 0.01912568306010929,\n",
       " 'chin': 0.01912568306010929,\n",
       " 'history': 0.01912568306010929,\n",
       " 'subject': 0.01912568306010929,\n",
       " 'fetch': 0.01912568306010929,\n",
       " 'Lory': 0.01912568306010929,\n",
       " 'important': 0.01912568306010929,\n",
       " 'others': 0.01912568306010929,\n",
       " 'chimney': 0.01912568306010929,\n",
       " 'grown': 0.01912568306010929,\n",
       " 'business': 0.01912568306010929,\n",
       " 'puppy': 0.01912568306010929,\n",
       " 'paw': 0.01912568306010929,\n",
       " 'nose': 0.01912568306010929,\n",
       " 'draw': 0.01912568306010929,\n",
       " 'silent': 0.01912568306010929,\n",
       " 'pleased': 0.01912568306010929,\n",
       " 'song': 0.01912568306010929,\n",
       " 'bread': 0.01912568306010929,\n",
       " 'treacle': 0.01912568306010929,\n",
       " 'evidence': 0.01912568306010929,\n",
       " 'good deal': 0.01912568306010929,\n",
       " 'Soo oop': 0.01912568306010929,\n",
       " 'stupid': 0.01639344262295082,\n",
       " 'trouble': 0.01639344262295082,\n",
       " 'late': 0.01639344262295082,\n",
       " 'fell': 0.01639344262295082,\n",
       " 'nice': 0.01639344262295082,\n",
       " 'written': 0.01639344262295082,\n",
       " 'jumped': 0.01639344262295082,\n",
       " 'roof': 0.01639344262295082,\n",
       " 'along': 0.01639344262295082,\n",
       " 'forgotten': 0.01639344262295082,\n",
       " 'ten': 0.01639344262295082,\n",
       " 'box': 0.01639344262295082,\n",
       " 'cake': 0.01639344262295082,\n",
       " 'care': 0.01639344262295082,\n",
       " 'pair': 0.01639344262295082,\n",
       " 'stop': 0.01639344262295082,\n",
       " 'gloves': 0.01639344262295082,\n",
       " 'sir': 0.01639344262295082,\n",
       " 'Seven': 0.01639344262295082,\n",
       " 'stay': 0.01639344262295082,\n",
       " 'understand': 0.01639344262295082,\n",
       " 'sentence': 0.01639344262295082,\n",
       " 'pardon': 0.01639344262295082,\n",
       " 'animal': 0.01639344262295082,\n",
       " 'dog': 0.01639344262295082,\n",
       " 'politely': 0.01639344262295082,\n",
       " 'melancholy': 0.01639344262295082,\n",
       " 'liked': 0.01639344262295082,\n",
       " 'hour': 0.01639344262295082,\n",
       " 'chorus': 0.01639344262295082,\n",
       " 'prize': 0.01639344262295082,\n",
       " 'executed': 0.01639344262295082,\n",
       " 'full': 0.01639344262295082,\n",
       " 'write': 0.01639344262295082,\n",
       " 'shriek': 0.01639344262295082,\n",
       " 'loud': 0.01639344262295082,\n",
       " 'sharp': 0.01639344262295082,\n",
       " 'Lizard': 0.01639344262295082,\n",
       " 'stand': 0.01639344262295082,\n",
       " 'youth': 0.01639344262295082,\n",
       " 'sleep': 0.01639344262295082,\n",
       " 'egg': 0.01639344262295082,\n",
       " 'sneezing': 0.01639344262295082,\n",
       " 'told': 0.01639344262295082,\n",
       " 'dreadfully': 0.01639344262295082,\n",
       " 'sing': 0.01639344262295082,\n",
       " 'exclaimed': 0.01639344262295082,\n",
       " 'procession': 0.01639344262295082,\n",
       " 'executioner': 0.01639344262295082,\n",
       " 'school': 0.01639344262295082,\n",
       " 'little girl': 0.01639344262295082,\n",
       " 'golden key': 0.01639344262295082,\n",
       " 'great hurry': 0.01639344262295082,\n",
       " 'Cheshire Cat': 0.01639344262295082,\n",
       " 'three gardeners': 0.01639344262295082,\n",
       " 'guinea pig': 0.01639344262295082,\n",
       " 'eBook': 0.01366120218579235,\n",
       " 'twice': 0.01366120218579235,\n",
       " 'sleepy': 0.01366120218579235,\n",
       " 'pocket': 0.01366120218579235,\n",
       " 'across': 0.01366120218579235,\n",
       " 'curiosity': 0.01366120218579235,\n",
       " 'passed': 0.01366120218579235,\n",
       " 'home': 0.01366120218579235,\n",
       " 'likely': 0.01366120218579235,\n",
       " 'aloud': 0.01366120218579235,\n",
       " 'walk': 0.01366120218579235,\n",
       " 'new': 0.01366120218579235,\n",
       " 'asking': 0.01366120218579235,\n",
       " 'night': 0.01366120218579235,\n",
       " 'sometimes': 0.01366120218579235,\n",
       " 'walking': 0.01366120218579235,\n",
       " 'corner': 0.01366120218579235,\n",
       " 'sadly': 0.01366120218579235,\n",
       " 'shut': 0.01366120218579235,\n",
       " 'hurry': 0.01366120218579235,\n",
       " 'simple': 0.01366120218579235,\n",
       " 'cut': 0.01366120218579235,\n",
       " 'nervous': 0.01366120218579235,\n",
       " 'altogether': 0.01366120218579235,\n",
       " 'remembered': 0.01366120218579235,\n",
       " 'person': 0.01366120218579235,\n",
       " 'deal': 0.01366120218579235,\n",
       " 'nine': 0.01366120218579235,\n",
       " 'dropped': 0.01366120218579235,\n",
       " 'usual': 0.01366120218579235,\n",
       " 'morning': 0.01366120218579235,\n",
       " 'Ah': 0.01366120218579235,\n",
       " 'wrong': 0.01366120218579235,\n",
       " 'sounded': 0.01366120218579235,\n",
       " 'strange': 0.01366120218579235,\n",
       " 'sudden': 0.01366120218579235,\n",
       " 'case': 0.01366120218579235,\n",
       " 'number': 0.01366120218579235,\n",
       " 'swam': 0.01366120218579235,\n",
       " 'nearer': 0.01366120218579235,\n",
       " 'speaking': 0.01366120218579235,\n",
       " 'shrill': 0.01366120218579235,\n",
       " 'angry': 0.01366120218579235,\n",
       " 'offended': 0.01366120218579235,\n",
       " 'crowded': 0.01366120218579235,\n",
       " 'tale': 0.01366120218579235,\n",
       " 'argument': 0.01366120218579235,\n",
       " 'notice': 0.01366120218579235,\n",
       " 'dare': 0.01366120218579235,\n",
       " 'confusion': 0.01366120218579235,\n",
       " 'reply': 0.01366120218579235,\n",
       " 'finish': 0.01366120218579235,\n",
       " 'impatiently': 0.01366120218579235,\n",
       " 'sighed': 0.01366120218579235,\n",
       " 'temper': 0.01366120218579235,\n",
       " 'moved': 0.01366120218579235,\n",
       " 'swim': 0.01366120218579235,\n",
       " 'plate': 0.01366120218579235,\n",
       " 'interesting': 0.01366120218579235,\n",
       " 'become': 0.01366120218579235,\n",
       " 'taking': 0.01366120218579235,\n",
       " 'drew': 0.01366120218579235,\n",
       " 'sky': 0.01366120218579235,\n",
       " 'instantly': 0.01366120218579235,\n",
       " 'surprise': 0.01366120218579235,\n",
       " 'stick': 0.01366120218579235,\n",
       " 'height': 0.01366120218579235,\n",
       " 'quietly': 0.01366120218579235,\n",
       " 'hookah': 0.01366120218579235,\n",
       " 'present': 0.01366120218579235,\n",
       " 'man': 0.01366120218579235,\n",
       " 'often': 0.01366120218579235,\n",
       " 'follow': 0.01366120218579235,\n",
       " 'sob': 0.01366120218579235,\n",
       " 'ground': 0.01366120218579235,\n",
       " 'meant': 0.01366120218579235,\n",
       " 'waving': 0.01366120218579235,\n",
       " 'asleep': 0.01366120218579235,\n",
       " 'pack': 0.01366120218579235,\n",
       " 'knee': 0.01366120218579235,\n",
       " 'whispered': 0.01366120218579235,\n",
       " 'execution': 0.01366120218579235,\n",
       " 'flamingo': 0.01366120218579235,\n",
       " 'friend': 0.01366120218579235,\n",
       " 'Turtle': 0.01366120218579235,\n",
       " 'Tis': 0.01366120218579235,\n",
       " 'picture': 0.01366120218579235,\n",
       " 'juror': 0.01366120218579235,\n",
       " 'witness': 0.01366120218579235,\n",
       " 'teacup': 0.01366120218579235,\n",
       " 'officer': 0.01366120218579235,\n",
       " 'unimportant': 0.01366120218579235,\n",
       " 'mile': 0.01366120218579235,\n",
       " 'Project Gutenberg': 0.01366120218579235,\n",
       " 'another moment': 0.01366120218579235,\n",
       " 'came upon': 0.01366120218579235,\n",
       " 'little golden': 0.01366120218579235,\n",
       " 'right size': 0.01366120218579235,\n",
       " 'feet high': 0.01366120218579235,\n",
       " 'white kid': 0.01366120218579235,\n",
       " 'kid gloves': 0.01366120218579235,\n",
       " 'trembling voice': 0.01366120218579235,\n",
       " 'offended tone': 0.01366120218579235,\n",
       " 'play croquet': 0.01366120218579235,\n",
       " 'Twinkle twinkle': 0.01366120218579235,\n",
       " 'evening Beautiful': 0.01366120218579235,\n",
       " 'next witness': 0.01366120218579235,\n",
       " 'March': 0.01092896174863388,\n",
       " 'bank': 0.01092896174863388,\n",
       " 'worth': 0.01092896174863388,\n",
       " 'natural': 0.01092896174863388,\n",
       " 'fear': 0.01092896174863388,\n",
       " 'managed': 0.01092896174863388,\n",
       " 'true': 0.01092896174863388,\n",
       " 'fallen': 0.01092896174863388,\n",
       " 'earth': 0.01092896174863388,\n",
       " 'several': 0.01092896174863388,\n",
       " 'Miss': 0.01092896174863388,\n",
       " 'catch': 0.01092896174863388,\n",
       " 'passage': 0.01092896174863388,\n",
       " 'except': 0.01092896174863388,\n",
       " 'tiny': 0.01092896174863388,\n",
       " 'alas': 0.01092896174863388,\n",
       " 'second': 0.01092896174863388,\n",
       " 'led': 0.01092896174863388,\n",
       " 'telescope': 0.01092896174863388,\n",
       " 'paper': 0.01092896174863388,\n",
       " 'taught': 0.01092896174863388,\n",
       " 'deeply': 0.01092896174863388,\n",
       " 'ventured': 0.01092896174863388,\n",
       " 'reach': 0.01092896174863388,\n",
       " 'sharply': 0.01092896174863388,\n",
       " 'severely': 0.01092896174863388,\n",
       " 'fond': 0.01092896174863388,\n",
       " 'boots': 0.01092896174863388,\n",
       " 'savage': 0.01092896174863388,\n",
       " 'violently': 0.01092896174863388,\n",
       " 'age': 0.01092896174863388,\n",
       " 'Mabel': 0.01092896174863388,\n",
       " 'besides': 0.01092896174863388,\n",
       " 'puzzling': 0.01092896174863388,\n",
       " 'twelve': 0.01092896174863388,\n",
       " 'capital': 0.01092896174863388,\n",
       " 'alone': 0.01092896174863388,\n",
       " 'escape': 0.01092896174863388,\n",
       " 'water': 0.01092896174863388,\n",
       " 'digging': 0.01092896174863388,\n",
       " 'French': 0.01092896174863388,\n",
       " 'William': 0.01092896174863388,\n",
       " 'fire': 0.01092896174863388,\n",
       " 'pale': 0.01092896174863388,\n",
       " 'shore': 0.01092896174863388,\n",
       " 'Duck': 0.01092896174863388,\n",
       " 'uncomfortable': 0.01092896174863388,\n",
       " 'wanted': 0.01092896174863388,\n",
       " 'frowning': 0.01092896174863388,\n",
       " 'solemnly': 0.01092896174863388,\n",
       " 'pointing': 0.01092896174863388,\n",
       " 'confused': 0.01092896174863388,\n",
       " 'short': 0.01092896174863388,\n",
       " 'bowed': 0.01092896174863388,\n",
       " 'noise': 0.01092896174863388,\n",
       " 'whisper': 0.01092896174863388,\n",
       " 'judge': 0.01092896174863388,\n",
       " 'breath': 0.01092896174863388,\n",
       " 'tongue': 0.01092896174863388,\n",
       " 'particular': 0.01092896174863388,\n",
       " 'vanished': 0.01092896174863388,\n",
       " 'run': 0.01092896174863388,\n",
       " 'stood': 0.01092896174863388,\n",
       " 'elbow': 0.01092896174863388,\n",
       " 'chance': 0.01092896174863388,\n",
       " 'answered': 0.01092896174863388,\n",
       " 'outside': 0.01092896174863388,\n",
       " 'hearing': 0.01092896174863388,\n",
       " 'master': 0.01092896174863388,\n",
       " 'Thank': 0.01092896174863388,\n",
       " 'doubt': 0.01092896174863388,\n",
       " 'lay': 0.01092896174863388,\n",
       " 'crowd': 0.01092896174863388,\n",
       " 'held': 0.01092896174863388,\n",
       " 'plan': 0.01092896174863388,\n",
       " 'difficulty': 0.01092896174863388,\n",
       " 'grass': 0.01092896174863388,\n",
       " 'perfectly': 0.01092896174863388,\n",
       " 'none': 0.01092896174863388,\n",
       " 'stuff': 0.01092896174863388,\n",
       " 'decidedly': 0.01092896174863388,\n",
       " 'thoughtfully': 0.01092896174863388,\n",
       " 'green': 0.01092896174863388,\n",
       " 'screamed': 0.01092896174863388,\n",
       " 'indignantly': 0.01092896174863388,\n",
       " 'taken': 0.01092896174863388,\n",
       " 'letter': 0.01092896174863388,\n",
       " 'dish': 0.01092896174863388,\n",
       " 'kitchen': 0.01092896174863388,\n",
       " 'sneeze': 0.01092896174863388,\n",
       " 'jumping': 0.01092896174863388,\n",
       " 'carried': 0.01092896174863388,\n",
       " 'growl': 0.01092896174863388,\n",
       " 'busily': 0.01092896174863388,\n",
       " 'beat': 0.01092896174863388,\n",
       " 'grunted': 0.01092896174863388,\n",
       " 'less': 0.01092896174863388,\n",
       " 'writing': 0.01092896174863388,\n",
       " 'crumbs': 0.01092896174863388,\n",
       " 'twinkling': 0.01092896174863388,\n",
       " 'sigh': 0.01092896174863388,\n",
       " 'bottom': 0.01092896174863388,\n",
       " 'M': 0.01092896174863388,\n",
       " 'flower': 0.01092896174863388,\n",
       " 'rose': 0.01092896174863388,\n",
       " 'Consider': 0.01092896174863388,\n",
       " 'arches': 0.01092896174863388,\n",
       " 'players': 0.01092896174863388,\n",
       " 'week': 0.01092896174863388,\n",
       " 'figure': 0.01092896174863388,\n",
       " 'porpoise': 0.01092896174863388,\n",
       " 'verdict': 0.01092896174863388,\n",
       " 'suppressed': 0.01092896174863388,\n",
       " 'jurymen': 0.01092896174863388,\n",
       " 'fit': 0.01092896174863388,\n",
       " 'Lewis Carroll': 0.01092896174863388,\n",
       " 'rabbit hole': 0.01092896174863388,\n",
       " 'inches high': 0.01092896174863388,\n",
       " 'one finger': 0.01092896174863388,\n",
       " 'Mary Ann': 0.01092896174863388,\n",
       " 'yer honour': 0.01092896174863388,\n",
       " 'old fellow': 0.01092896174863388,\n",
       " 'FATHER WILLIAM': 0.01092896174863388,\n",
       " 'Wow wow': 0.01092896174863388,\n",
       " 'Lobster Quadrille': 0.01092896174863388,\n",
       " 'dance Will': 0.01092896174863388,\n",
       " 'Beau ootiful': 0.01092896174863388,\n",
       " 'ootiful Soo': 0.01092896174863388,\n",
       " 'jury box': 0.01092896174863388,\n",
       " 'Date': 0.00819672131147541,\n",
       " 'peeped': 0.00819672131147541,\n",
       " 'reading': 0.00819672131147541,\n",
       " 'considering': 0.00819672131147541,\n",
       " 'White': 0.00819672131147541,\n",
       " 'hedge': 0.00819672131147541,\n",
       " 'dark': 0.00819672131147541,\n",
       " 'filled': 0.00819672131147541,\n",
       " 'past': 0.00819672131147541,\n",
       " 'stairs': 0.00819672131147541,\n",
       " 'somewhere': 0.00819672131147541,\n",
       " 'knowledge': 0.00819672131147541,\n",
       " 'grand': 0.00819672131147541,\n",
       " 'funny': 0.00819672131147541,\n",
       " 'listening': 0.00819672131147541,\n",
       " 'hope': 0.00819672131147541,\n",
       " 'hurt': 0.00819672131147541,\n",
       " 'lost': 0.00819672131147541,\n",
       " 'whiskers': 0.00819672131147541,\n",
       " 'longer': 0.00819672131147541,\n",
       " 'hanging': 0.00819672131147541,\n",
       " 'key': 0.00819672131147541,\n",
       " 'belong': 0.00819672131147541,\n",
       " 'lock': 0.00819672131147541,\n",
       " 'delight': 0.00819672131147541,\n",
       " 'impossible': 0.00819672131147541,\n",
       " 'marked': 0.00819672131147541,\n",
       " 'red': 0.00819672131147541,\n",
       " 'knife': 0.00819672131147541,\n",
       " 'certain': 0.00819672131147541,\n",
       " 'taste': 0.00819672131147541,\n",
       " 'finding': 0.00819672131147541,\n",
       " 'apple': 0.00819672131147541,\n",
       " 'candle': 0.00819672131147541,\n",
       " 'decided': 0.00819672131147541,\n",
       " 'possibly': 0.00819672131147541,\n",
       " 'legs': 0.00819672131147541,\n",
       " 'bring': 0.00819672131147541,\n",
       " 'smaller': 0.00819672131147541,\n",
       " 'holding': 0.00819672131147541,\n",
       " 'remained': 0.00819672131147541,\n",
       " 'expecting': 0.00819672131147541,\n",
       " 'dull': 0.00819672131147541,\n",
       " 'opening': 0.00819672131147541,\n",
       " 'love': 0.00819672131147541,\n",
       " 'cry': 0.00819672131147541,\n",
       " 'pattering': 0.00819672131147541,\n",
       " 'muttering': 0.00819672131147541,\n",
       " 'timid': 0.00819672131147541,\n",
       " 'yesterday': 0.00819672131147541,\n",
       " 'twenty': 0.00819672131147541,\n",
       " 'doth': 0.00819672131147541,\n",
       " 'crossed': 0.00819672131147541,\n",
       " 'hoarse': 0.00819672131147541,\n",
       " 'spread': 0.00819672131147541,\n",
       " 'gently': 0.00819672131147541,\n",
       " 'play': 0.00819672131147541,\n",
       " 'putting': 0.00819672131147541,\n",
       " 'guess': 0.00819672131147541,\n",
       " 'cause': 0.00819672131147541,\n",
       " 'worse': 0.00819672131147541,\n",
       " 'slipped': 0.00819672131147541,\n",
       " 'general': 0.00819672131147541,\n",
       " 'notion': 0.00819672131147541,\n",
       " 'show': 0.00819672131147541,\n",
       " 'washing': 0.00819672131147541,\n",
       " 'nurse': 0.00819672131147541,\n",
       " 'throw': 0.00819672131147541,\n",
       " 'passion': 0.00819672131147541,\n",
       " 'Eaglet': 0.00819672131147541,\n",
       " 'race': 0.00819672131147541,\n",
       " 'fur': 0.00819672131147541,\n",
       " 'sulky': 0.00819672131147541,\n",
       " 'allow': 0.00819672131147541,\n",
       " 'frog': 0.00819672131147541,\n",
       " 'crown': 0.00819672131147541,\n",
       " 'move': 0.00819672131147541,\n",
       " 'pressed': 0.00819672131147541,\n",
       " 'handed': 0.00819672131147541,\n",
       " 'gravely': 0.00819672131147541,\n",
       " 'thimble': 0.00819672131147541,\n",
       " 'speech': 0.00819672131147541,\n",
       " 'cheered': 0.00819672131147541,\n",
       " 'grave': 0.00819672131147541,\n",
       " 'simply': 0.00819672131147541,\n",
       " 'solemn': 0.00819672131147541,\n",
       " 'choked': 0.00819672131147541,\n",
       " 'sad': 0.00819672131147541,\n",
       " 'sighing': 0.00819672131147541,\n",
       " 'Fury': 0.00819672131147541,\n",
       " 'met': 0.00819672131147541,\n",
       " 'attending': 0.00819672131147541,\n",
       " 'pleaded': 0.00819672131147541,\n",
       " 'easily': 0.00819672131147541,\n",
       " 'joined': 0.00819672131147541,\n",
       " 'pity': 0.00819672131147541,\n",
       " 'Crab': 0.00819672131147541,\n",
       " 'venture': 0.00819672131147541,\n",
       " 'carefully': 0.00819672131147541,\n",
       " 'suit': 0.00819672131147541,\n",
       " 'bed': 0.00819672131147541,\n",
       " 'mentioned': 0.00819672131147541,\n",
       " 'guessed': 0.00819672131147541,\n",
       " 'hunting': 0.00819672131147541,\n",
       " 'mistake': 0.00819672131147541,\n",
       " 'knocking': 0.00819672131147541,\n",
       " 'real': 0.00819672131147541,\n",
       " 'broken': 0.00819672131147541,\n",
       " 'floor': 0.00819672131147541,\n",
       " 'effect': 0.00819672131147541,\n",
       " 'whatever': 0.00819672131147541,\n",
       " 'ordered': 0.00819672131147541,\n",
       " 'stopped': 0.00819672131147541,\n",
       " 'crash': 0.00819672131147541,\n",
       " 'Pat': 0.00819672131147541,\n",
       " 'em': 0.00819672131147541,\n",
       " 'kick': 0.00819672131147541,\n",
       " 'sense': 0.00819672131147541,\n",
       " 'moving': 0.00819672131147541,\n",
       " 'hungry': 0.00819672131147541,\n",
       " 'picked': 0.00819672131147541,\n",
       " 'edge': 0.00819672131147541,\n",
       " 'immediately': 0.00819672131147541,\n",
       " 'folded': 0.00819672131147541,\n",
       " 'confusing': 0.00819672131147541,\n",
       " 'brought': 0.00819672131147541,\n",
       " 'Pray': 0.00819672131147541,\n",
       " 'jaw': 0.00819672131147541,\n",
       " 'eel': 0.00819672131147541,\n",
       " 'blow': 0.00819672131147541,\n",
       " 'free': 0.00819672131147541,\n",
       " 'shaking': 0.00819672131147541,\n",
       " 'succeeded': 0.00819672131147541,\n",
       " 'tasted': 0.00819672131147541,\n",
       " 'settled': 0.00819672131147541,\n",
       " 'nibbling': 0.00819672131147541,\n",
       " 'bringing': 0.00819672131147541,\n",
       " 'livery': 0.00819672131147541,\n",
       " 'considered': 0.00819672131147541,\n",
       " 'loudly': 0.00819672131147541,\n",
       " 'order': 0.00819672131147541,\n",
       " 'staring': 0.00819672131147541,\n",
       " 'howling': 0.00819672131147541,\n",
       " 'instance': 0.00819672131147541,\n",
       " 'repeating': 0.00819672131147541,\n",
       " 'nursing': 0.00819672131147541,\n",
       " 'courage': 0.00819672131147541,\n",
       " 'grinned': 0.00819672131147541,\n",
       " 'faster': 0.00819672131147541,\n",
       " 'advantage': 0.00819672131147541,\n",
       " 'line': 0.00819672131147541,\n",
       " 'boy': 0.00819672131147541,\n",
       " 'tossing': 0.00819672131147541,\n",
       " 'caught': 0.00819672131147541,\n",
       " 'shaped': 0.00819672131147541,\n",
       " 'proper': 0.00819672131147541,\n",
       " 'sobbing': 0.00819672131147541,\n",
       " 'explanation': 0.00819672131147541,\n",
       " 'instead': 0.00819672131147541,\n",
       " 'civil': 0.00819672131147541,\n",
       " 'fun': 0.00819672131147541,\n",
       " 'breathe': 0.00819672131147541,\n",
       " \"o'clock\": 0.00819672131147541,\n",
       " 'year': 0.00819672131147541,\n",
       " 'riddle': 0.00819672131147541,\n",
       " 'cautiously': 0.00819672131147541,\n",
       " 'music': 0.00819672131147541,\n",
       " 'fly': 0.00819672131147541,\n",
       " 'lived': 0.00819672131147541,\n",
       " 'upset': 0.00819672131147541,\n",
       " 'manner': 0.00819672131147541,\n",
       " 'muchness': 0.00819672131147541,\n",
       " 'beheaded': 0.00819672131147541,\n",
       " 'watching': 0.00819672131147541,\n",
       " 'checked': 0.00819672131147541,\n",
       " 'eager': 0.00819672131147541,\n",
       " 'guests': 0.00819672131147541,\n",
       " 'cards': 0.00819672131147541,\n",
       " \"needn't\": 0.00819672131147541,\n",
       " 'unfortunate': 0.00819672131147541,\n",
       " 'Hush': 0.00819672131147541,\n",
       " 'tucked': 0.00819672131147541,\n",
       " 'alive': 0.00819672131147541,\n",
       " 'anxious': 0.00819672131147541,\n",
       " 'mustard': 0.00819672131147541,\n",
       " 'sorrow': 0.00819672131147541,\n",
       " 'Tortoise': 0.00819672131147541,\n",
       " 'Drawling': 0.00819672131147541,\n",
       " 'advance': 0.00819672131147541,\n",
       " 'toes': 0.00819672131147541,\n",
       " 'mark': 0.00819672131147541,\n",
       " 'snail': 0.00819672131147541,\n",
       " 'obliged': 0.00819672131147541,\n",
       " 'part': 0.00819672131147541,\n",
       " 'around': 0.00819672131147541,\n",
       " 'Owl': 0.00819672131147541,\n",
       " 'Panther': 0.00819672131147541,\n",
       " 'pie': 0.00819672131147541,\n",
       " 'trumpet': 0.00819672131147541,\n",
       " 'spectacles': 0.00819672131147541,\n",
       " 'pencil': 0.00819672131147541,\n",
       " 'wrote': 0.00819672131147541,\n",
       " 'list': 0.00819672131147541,\n",
       " 'prove': 0.00819672131147541,\n",
       " 'half hoping': 0.00819672131147541,\n",
       " 'marked poison': 0.00819672131147541,\n",
       " 'O Mouse': 0.00819672131147541,\n",
       " 'Caucus race': 0.00819672131147541,\n",
       " 'stood near': 0.00819672131147541,\n",
       " 'quite forgetting': 0.00819672131147541,\n",
       " 'broken glass': 0.00819672131147541,\n",
       " 'dead silence': 0.00819672131147541,\n",
       " 'OLD FATHER': 0.00819672131147541,\n",
       " 'fast asleep': 0.00819672131147541,\n",
       " 'young lady': 0.00819672131147541,\n",
       " 'croquet ground': 0.00819672131147541,\n",
       " 'rose tree': 0.00819672131147541,\n",
       " 'e e': 0.00819672131147541,\n",
       " 'e evening': 0.00819672131147541,\n",
       " 'anywhere': 0.00546448087431694,\n",
       " 'cost': 0.00546448087431694,\n",
       " 'terms': 0.00546448087431694,\n",
       " 'pleasure': 0.00546448087431694,\n",
       " 'chain': 0.00546448087431694,\n",
       " 'picking': 0.00546448087431694,\n",
       " 'remarkable': 0.00546448087431694,\n",
       " 'afterwards': 0.00546448087431694,\n",
       " 'occurred': 0.00546448087431694,\n",
       " 'started': 0.00546448087431694,\n",
       " 'straight': 0.00546448087431694,\n",
       " 'dipped': 0.00546448087431694,\n",
       " 'falling': 0.00546448087431694,\n",
       " 'plenty': 0.00546448087431694,\n",
       " 'cupboards': 0.00546448087431694,\n",
       " 'shelves': 0.00546448087431694,\n",
       " 'jar': 0.00546448087431694,\n",
       " 'tumbling': 0.00546448087431694,\n",
       " 'thousand': 0.00546448087431694,\n",
       " 'learnt': 0.00546448087431694,\n",
       " 'showing': 0.00546448087431694,\n",
       " 'Latitude': 0.00546448087431694,\n",
       " 'Longitude': 0.00546448087431694,\n",
       " 'Presently': 0.00546448087431694,\n",
       " 'downward': 0.00546448087431694,\n",
       " \"Dinah'll\": 0.00546448087431694,\n",
       " 'milk': 0.00546448087431694,\n",
       " 'mice': 0.00546448087431694,\n",
       " 'earnestly': 0.00546448087431694,\n",
       " 'thump': 0.00546448087431694,\n",
       " 'wind': 0.00546448087431694,\n",
       " 'row': 0.00546448087431694,\n",
       " 'legged': 0.00546448087431694,\n",
       " 'inches': 0.00546448087431694,\n",
       " 'rat': 0.00546448087431694,\n",
       " 'longed': 0.00546448087431694,\n",
       " 'shutting': 0.00546448087431694,\n",
       " 'label': 0.00546448087431694,\n",
       " \"ME'\": 0.00546448087431694,\n",
       " 'beautifully': 0.00546448087431694,\n",
       " 'wise': 0.00546448087431694,\n",
       " 'unpleasant': 0.00546448087431694,\n",
       " 'burn': 0.00546448087431694,\n",
       " 'usually': 0.00546448087431694,\n",
       " 'sooner': 0.00546448087431694,\n",
       " 'mixed': 0.00546448087431694,\n",
       " 'brightened': 0.00546448087431694,\n",
       " 'lovely': 0.00546448087431694,\n",
       " 'crying': 0.00546448087431694,\n",
       " 'advice': 0.00546448087431694,\n",
       " 'playing': 0.00546448087431694,\n",
       " 'Curiouser': 0.00546448087431694,\n",
       " 'forgot': 0.00546448087431694,\n",
       " 'bye': 0.00546448087431694,\n",
       " '_I_': 0.00546448087431694,\n",
       " 'sending': 0.00546448087431694,\n",
       " 'struck': 0.00546448087431694,\n",
       " 'ashamed': 0.00546448087431694,\n",
       " 'trotting': 0.00546448087431694,\n",
       " 'ringlets': 0.00546448087431694,\n",
       " 'six': 0.00546448087431694,\n",
       " 'Paris': 0.00546448087431694,\n",
       " 'Rome': 0.00546448087431694,\n",
       " 'lap': 0.00546448087431694,\n",
       " 'neatly': 0.00546448087431694,\n",
       " 'claws': 0.00546448087431694,\n",
       " 'smiling': 0.00546448087431694,\n",
       " 'shrinking': 0.00546448087431694,\n",
       " 'narrow': 0.00546448087431694,\n",
       " 'declare': 0.00546448087431694,\n",
       " 'bad': 0.00546448087431694,\n",
       " 'railway': 0.00546448087431694,\n",
       " 'conclusion': 0.00546448087431694,\n",
       " 'wherever': 0.00546448087431694,\n",
       " 'sand': 0.00546448087431694,\n",
       " 'splashing': 0.00546448087431694,\n",
       " 'swimming': 0.00546448087431694,\n",
       " 'wink': 0.00546448087431694,\n",
       " 'Conqueror': 0.00546448087431694,\n",
       " 'clear': 0.00546448087431694,\n",
       " 'ago': 0.00546448087431694,\n",
       " 'ma': 0.00546448087431694,\n",
       " 'fright': 0.00546448087431694,\n",
       " 'quiet': 0.00546448087431694,\n",
       " 'purring': 0.00546448087431694,\n",
       " 'nicely': 0.00546448087431694,\n",
       " 'brown': 0.00546448087431694,\n",
       " 'dinner': 0.00546448087431694,\n",
       " 'useful': 0.00546448087431694,\n",
       " 'sorrowful': 0.00546448087431694,\n",
       " 'hate': 0.00546448087431694,\n",
       " 'assembled': 0.00546448087431694,\n",
       " 'wet': 0.00546448087431694,\n",
       " 'older': 0.00546448087431694,\n",
       " 'knowing': 0.00546448087431694,\n",
       " 'authority': 0.00546448087431694,\n",
       " 'ring': 0.00546448087431694,\n",
       " ...}"
      ]
     },
     "execution_count": 18,
     "metadata": {},
     "output_type": "execute_result"
    }
   ],
   "source": [
    "wc = WordCloud(background_color = 'white', max_words=2000, mask=alice_mask,\n",
    "              stopwords = stopwords)\n",
    "wc = wc.generate(text)\n",
    "wc.words_"
   ]
  },
  {
   "cell_type": "markdown",
   "id": "fc0a84d9",
   "metadata": {},
   "source": [
    "그 결과는 위에 나와있다. Alice가 가장 많이 등장했다. \n",
    "- 이제 위에 코드 결과를 엘리스 그림에 겹쳐 보이게 할 것이다."
   ]
  },
  {
   "cell_type": "code",
   "execution_count": 19,
   "id": "c71d8979",
   "metadata": {},
   "outputs": [
    {
     "data": {
      "image/png": "[encoded data removed]",
      "text/plain": [
       "<Figure size 864x864 with 1 Axes>"
      ]
     },
     "metadata": {
      "needs_background": "light"
     },
     "output_type": "display_data"
    }
   ],
   "source": [
    "plt.figure(figsize=(12,12))\n",
    "plt.imshow(wc, interpolation='bilinear')\n",
    "plt.axis('off')\n",
    "plt.show()"
   ]
  },
  {
   "cell_type": "markdown",
   "id": "1058ef38",
   "metadata": {},
   "source": [
    "뭔가 시각적 효과가 괜찮아 보인다. 그 다음은 스타워즈의 A New Hope 텍스트 이다."
   ]
  },
  {
   "cell_type": "code",
   "execution_count": 20,
   "id": "1d601d66",
   "metadata": {},
   "outputs": [],
   "source": [
    "text = open('./data/09. a_new_hope.txt').read()\n",
    "\n",
    "text = text.replace('HAN', 'Han')\n",
    "text = text.replace(\"LUKE'S\", 'Luke')\n",
    "\n",
    "mask = np.array(Image.open('./data/09. stormtrooper_mask.png'))"
   ]
  },
  {
   "cell_type": "markdown",
   "id": "e9729270",
   "metadata": {},
   "source": [
    "여기서도 특수하게 처리해야 할 단어를 처리하자."
   ]
  },
  {
   "cell_type": "code",
   "execution_count": 21,
   "id": "3c4d5a3b",
   "metadata": {},
   "outputs": [],
   "source": [
    "stopwords = set(STOPWORDS)\n",
    "stopwords.add(\"int\")\n",
    "stopwords.add(\"ext\")"
   ]
  },
  {
   "cell_type": "markdown",
   "id": "8a98ae6d",
   "metadata": {},
   "source": [
    "그리고 워드 클라우드를 준비하자."
   ]
  },
  {
   "cell_type": "code",
   "execution_count": 22,
   "id": "67a14721",
   "metadata": {},
   "outputs": [],
   "source": [
    "wc = WordCloud(max_words=1000, mask=mask, stopwords=stopwords,\n",
    "              margin=10, random_state=1).generate(text)\n",
    "\n",
    "default_colors = wc.to_array()"
   ]
  },
  {
   "cell_type": "markdown",
   "id": "3ee910a3",
   "metadata": {},
   "source": [
    "이번에는 앨리스와는 약간 달리 색상을 전체적으로 회색(grey)으로 채우도록 함수를 하나 만들어 두자."
   ]
  },
  {
   "cell_type": "code",
   "execution_count": 23,
   "id": "14504cb4",
   "metadata": {},
   "outputs": [],
   "source": [
    "import random\n",
    "def grey_color_func(word, font_size, position, orientation, random_state=None, **kwargs):\n",
    "    return 'hsl(0,0%%,%d%%)' % random.randint(60, 100)"
   ]
  },
  {
   "cell_type": "markdown",
   "id": "dc9946f7",
   "metadata": {},
   "source": [
    "그리고 그려보자."
   ]
  },
  {
   "cell_type": "code",
   "execution_count": 24,
   "id": "66798a9e",
   "metadata": {},
   "outputs": [
    {
     "data": {
      "image/png": "[encoded data removed]",
      "text/plain": [
       "<Figure size 864x864 with 1 Axes>"
      ]
     },
     "metadata": {
      "needs_background": "light"
     },
     "output_type": "display_data"
    }
   ],
   "source": [
    "plt.figure(figsize=(12,12))\n",
    "plt.imshow(wc.recolor(color_func=grey_color_func, random_state=3),\n",
    "          interpolation='bilinear')\n",
    "plt.axis('off')\n",
    "plt.show()"
   ]
  },
  {
   "cell_type": "markdown",
   "id": "a8d387ff",
   "metadata": {},
   "source": [
    "그러면 위와 같이 나타난다. 회색 톤의 색상과 아주 잘 어울리는 것 같다. 문서의 성격과 어울리는 그림에 워드 클라우드를 적용하면 꽤 좋은 효과를 얻을 수 있다."
   ]
  },
  {
   "cell_type": "markdown",
   "id": "e4a85acb",
   "metadata": {},
   "source": [
    "#### 8-4 육아휴직 관련 법안에 대한 분석\n",
    "\n",
    "이번에는 Lucy Park 님의 KoNLPy가 내장하고 있는 법률 문서 중 하나를 가지고 기초적인 분석을 해보는 튜토리얼을 아주 미세한 부분 일부를 수정해서 학습하려 한다."
   ]
  },
  {
   "cell_type": "code",
   "execution_count": 25,
   "id": "6c05fe6e",
   "metadata": {},
   "outputs": [],
   "source": [
    "#!pip3 install nltk"
   ]
  },
  {
   "cell_type": "code",
   "execution_count": 26,
   "id": "052ea3c2",
   "metadata": {},
   "outputs": [],
   "source": [
    "import nltk"
   ]
  },
  {
   "cell_type": "code",
   "execution_count": 27,
   "id": "fffb3221",
   "metadata": {},
   "outputs": [],
   "source": [
    "from konlpy.corpus import kobill\n",
    "files_ko = kobill.fileids()\n",
    "doc_ko = kobill.open('1809890.txt').read()"
   ]
  },
  {
   "cell_type": "markdown",
   "id": "86eb2da1",
   "metadata": {},
   "source": [
    "먼저 ultk를 임포트하고 KoNLPy의 내부 문서 중 육하휴직 관련 법안 제 1809890호를 읽는다. 이 법률은 비록 공무원에 한정하고 있지만 육아휴직 대상이 되는 아이의 나이를 만6세에서 만8세로 확장 하는 내용을 담고있다. "
   ]
  },
  {
   "cell_type": "code",
   "execution_count": 28,
   "id": "573d5247",
   "metadata": {},
   "outputs": [
    {
     "data": {
      "text/plain": [
       "'지방공무원법 일부개정법률안\\n\\n(정의화의원 대표발의 )\\n\\n 의 안\\n 번 호\\n\\n9890\\n\\n발의연월일 : 2010.  11.  12.  \\n\\n발  의  자 : 정의화․이명수․김을동 \\n\\n이사철․여상규․안규백\\n\\n황영철․박영아․김정훈\\n\\n김학송 의원(10인)\\n\\n제안이유 및 주요내용\\n\\n  초등학교 저학년의 경우에도 부모의 따뜻한 사랑과 보살핌이 필요\\n\\n한 나이이나, 현재 공무원이 자녀를 양육하기 위하여 육아휴직을 할 \\n\\n수 있는 자녀의 나이는 만 6세 이하로 되어 있어 초등학교 저학년인 \\n\\n자녀를 돌보기 위해서는 해당 부모님은 일자리를 그만 두어야 하고 \\n\\n이는 곧 출산의욕을 저하시키는 문제로 이어질 수 있을 것임.\\n\\n  따라서 육아휴직이 가능한 자녀의 연령을 만 8세 이하로 개정하려\\n\\n는 것임(안 제63조제2항제4호).\\n\\n- 1 -\\n\\n\\x0c법률  제        호\\n\\n지방공무원법 일부개정법률안\\n\\n지방공무원법 일부를 다음과 같이 개정한다.\\n\\n제63조제2항제4호 중 “만 6세 이하의 초등학교 취학 전 자녀를”을 “만 \\n\\n8세 이하(취학 중인 경우에는 초등학교 2학년 이하를 말한다)의 자녀를”\\n\\n로 한다.\\n\\n부      칙\\n\\n이 법은 공포한 날부터 시행한다.\\n\\n- 3 -\\n\\n\\x0c신 ·구조문대비표\\n\\n현      행\\n\\n개   정   안\\n\\n제63조(휴직) ① (생  략)\\n\\n제63조(휴직) ① (현행과 같음)\\n\\n  ② 공무원이 다음 각 호의 어\\n\\n  ② -------------------------\\n\\n느 하나에 해당하는 사유로 휴\\n\\n----------------------------\\n\\n직을 원하면 임용권자는 휴직\\n\\n----------------------------\\n\\n을 명할 수 있다. 다만, 제4호\\n\\n-------------.---------------\\n\\n의 경우에는 대통령령으로 정\\n\\n----------------------------\\n\\n하는 특별한 사정이 없으면 휴\\n\\n----------------------------\\n\\n직을 명하여야 한다.\\n\\n--------------.\\n\\n  1. ∼ 3. (생  략)\\n\\n  1. ∼ 3. (현행과 같음)\\n\\n  4. 만 6세 이하의 초등학교 취\\n\\n  4. 만 8세 이하(취학 중인 경우\\n\\n학 전 자녀를 양육하기 위하\\n\\n에는 초등학교 2학년 이하를 \\n\\n여 필요하거나 여자공무원이 \\n\\n말한다)의 자녀를 ----------\\n\\n임신 또는 출산하게 되었을 \\n\\n---------------------------\\n\\n때\\n\\n---------------------------\\n\\n  5.⋅6. (생  략)\\n\\n  ③⋅④ (생  략)\\n\\n--------\\n\\n  5.⋅6. (현행과 같음)\\n\\n  ③⋅④ (현행과 같음)\\n\\n- 5 -\\n\\n\\x0c지방공무원법 일부개정법률안 등 비용추계서 미첨부사유서\\n1.  재정수반요인\\n\\n개정안에서 ｢국가공무원법｣  제71조제2항제4호 중 국가공무원의 육아\\n\\n휴직 가능 자녀의 연령을 만6세 이하에서 만8세 이하로 하고, ｢지방공\\n\\n무원법｣ 제63조제2항제4호 중 지방공무원의 육아휴직 가능 자녀의 연\\n\\n령을 만6세 이하에서 만8세 이하로 하고, ｢교육공무원법｣ 제44조제1항\\n\\n제7조 중 교육공무원의 육아휴직 가능 자녀의 연령을 만6세 이하에서 \\n\\n만8세 이하로 하고, ｢남녀고용평등과 일․가정 양립지원에 관한 법률｣ \\n\\n제19조제1항 중 근로자 육아휴직 가능 자녀연령을 만6세 이하에서 만\\n\\n8세 이하로 조정함에 따라 추가 재정소요가 예상됨.\\n\\n2.  미첨부  근거  규정\\n｢의안의 비용추계에 관한 규칙｣ 제3조제1항 단서 중 제1호(예상되는 비용이 연평균  10억원 미만\\n이거나  한시적인  경비로서  총  30억원  미만인  경우)에  해당함.\\n\\n3.  미첨부  사유\\n\\n개정안에서 국가․지방․교육공무원 및 근로자가 육아휴직을 신청할 \\n\\n수 있는 자녀의 연령을 만6세 이하에서 만8세 이하로 상향조정함에 \\n\\n따라 추가 재정소요가 예상된다. 동 법률 개정안이 2011년에 시행된다\\n\\n고 가정한 경우, 2010년 현재 자녀의 연령이 7세이고 육아휴직을 신청\\n\\n- 7 -\\n\\n\\x0c- 8 -\\n\\n하지 않은 국가․지방․교육공무원 및 근로자가 대상이 된다.\\n\\n대상연령의 확대됨에 따라 육아휴직신청자의 수가 어느 정도 늘어날 \\n\\n것으로 예상된다. 이 경우 발생하는 비용은 현행법에 따르면 월50만원\\n\\n이나 현재 관련법령 개정이 추진되고 있으며, 이에 따라 2011년에는 \\n\\n육아휴직자가 지급받는 월급여액에 비례하여 육아휴직급여가 지급되\\n\\n기 때문에 법령개정을 가정하고 추계한다. 이러한 경우 육아휴직급여\\n\\n액은 육아휴직자가 지급받는 월급여의 40%에 해당한다. 육아휴직자가 \\n\\n발생한 경우 발생하는 비용은 대체인력 고용인건비와 육아휴직자가 \\n\\n받는 월급여액의 40%이다. 이와 대비하여 육아휴직자에게 지급하던 \\n\\n임금은 더 이상 발생하지 않는다. 따라서 실제 발생하는 순비용은 육\\n\\n아휴직자에게 지급하던 월 급여액과 연령 확대에 따라 발생하는 비용\\n\\n인 육아휴직자가 받던 월급여액의 40%와 대체인력 고용인건비의 차\\n\\n액인데 이 값이 0보다 크면 추가 재정소요는 발생하지 않는다고 볼 \\n\\n수 있다.\\n\\n추가비용 발생여부를 정확하게 알아보기 위하여 비용에 대한 수리모\\n\\n델을 만들고 이에 따라 비용발생 여부를 알아보기로 하자. 모델에 사\\n\\n용되는 변수를 다음과 같이 정의한다.\\n\\n발생비용 : N×p×X + N×육아휴직급여액 - N×P\\n\\nN\\n\\nP\\n\\n: 육아휴직대상자의 수\\n\\n: 육아휴직대상자의 월급여액\\n\\n\\x0cp\\n\\nX\\n\\n: 육아휴직자가 발생한 경우 대체 고용할 확률\\n\\n: 대체 고용한 인력에게 지급하는 월급여액\\n\\n위의 수식에서 육아휴직급여액은 육아휴직자 월급여액의 40%까지 지\\n\\n급할 예정이므로 육아휴직급여액은 P×40%이다. 육아휴직자가 발생한 \\n\\n경우 대체 고용할 확률 p는 고용노동부의 육아휴직 관련 자료를 이용\\n\\n한다. 고용노동부에 따르면 2011년의 경우 육아휴직급여 대상자는 \\n\\n40,923명이며, 육아휴직에 따른 대체인력 고용 예상인원은 2,836명이\\n\\n다. 2007년부터 2011년까지의 현황을 정리하면 다음의 [표]와 같다.\\n\\n[표]  육아휴직급여  수급자의  수  및  대체인력  고용  현황:  2007~2011년\\n\\n(단위:  명,  % )\\n\\n2007\\n\\n2008\\n\\n2009\\n\\n2010\\n\\n2011\\n\\n평균\\n\\n육아휴직급여  수급자(A)\\n\\n21,185\\n\\n29,145\\n\\n35,400\\n\\n41,291\\n\\n43,899\\n\\n34,184\\n\\n대체인력  채용(B)\\n\\n796\\n\\n1,658\\n\\n1,957\\n\\n2,396\\n\\n2,836\\n\\n1,929\\n\\n비  율(B/A)\\n\\n3.8\\n\\n5.7\\n\\n5.5\\n\\n5.8\\n\\n6.5\\n\\n5.6\\n\\n자료: 고용노동부  자료를  바탕으로  국회예산정책처  작성\\n\\n위의 [표]의 자료에 따라 육아휴직자가 발생한 경우 대체 고용할 확률 \\n\\np의 값은 5.6%라고 가정한다. 그리고 비용이 발생한다고 가정하여 위\\n\\n의 수식을 다시 작성하면 다음의 수식과 같다.\\n\\nN×p×X + N×육아휴직급여액 - N×P > 0\\n\\n(1)\\n\\n- 9 -\\n\\n\\x0c- 10 -\\n\\nN×5.6%×X + N×P×40% - N×P > 0\\n\\n0.056×X > 0.6P\\n\\nX > 10.7×P\\n\\n(2)\\n\\n(3)\\n\\n(5)\\n\\n위의 수식에 육아휴직자가 받는 월 급여액을 대입하여 대체고용인력\\n\\n자에게 지급하는 월 급여액을 추정하여 보자. 육아휴직자가 월 200만\\n\\n원을 받는다고 가정하면, 대체고용인력자에게 육아휴직자가 받는 월 \\n\\n급여액의 10.7배에 달하는 월 21,428,571원 이상을 지급해야 추가 비용\\n\\n이 발생한다. 대체고용인력자에게 육아휴직자보다 더 많은 월급여액을 \\n\\n주지는 않을 것이고 그리고 10여배 이상 월급을 주지도 않을 것이기 \\n\\n때문에 추가 비용이 발생한다고 보기 힘들다. 위의 수식에서 대체인력 \\n\\n고용확률 p를 20%로 가정하더라도(이 경우 X > 3×P) 200만원 받는 \\n\\n육아휴직자 대체인력에게 월 600만원 이상을 지급해야 추가 비용이 \\n\\n발생한다.\\n\\n행정안전부의 통계자료(행정안전부 통계연감)에서는 지방공무원의 육\\n\\n아휴직 현황자료를 보여주고 있다. 여기서 육아휴직자가 발생한 경우 \\n\\n대체인력을 주로 임용대기자 또는 일용직을 활용하는 것으로 보인다. \\n\\n따라서 공무원의 경우에도 [표]에서 보여주는 일반기업체의 대체인력 \\n\\n고용확률과 차이는 크지 않을 것으로 보인다.\\n\\n이상의 논의를 바탕으로 육아휴직기간을 만6에서 만8세로 연장하더라\\n\\n도 법률 개정에 따른 추가 비용은 발생하지 않을 것으로 예상된다.\\n\\n\\x0c4.  작성자\\n\\n국회예산정책처 법안비용추계1팀\\n\\n팀      장   정 문 종\\n\\n예산분석관   김 태 완\\n\\n(02-788-4649, tanzania@assembly.go.kr)\\n\\n- 11 -\\n\\n\\x0c'"
      ]
     },
     "execution_count": 28,
     "metadata": {},
     "output_type": "execute_result"
    }
   ],
   "source": [
    "doc_ko"
   ]
  },
  {
   "cell_type": "markdown",
   "id": "7caf1722",
   "metadata": {},
   "source": [
    "이 문서를 Twitter 분석기로 명사 분석을 하겠다."
   ]
  },
  {
   "cell_type": "code",
   "execution_count": 29,
   "id": "4da82577",
   "metadata": {},
   "outputs": [
    {
     "name": "stderr",
     "output_type": "stream",
     "text": [
      "/home/ubuntu/.local/lib/python3.6/site-packages/konlpy/tag/_okt.py:16: UserWarning: \"Twitter\" has changed to \"Okt\" since KoNLPy v0.4.5.\n",
      "  warn('\"Twitter\" has changed to \"Okt\" since KoNLPy v0.4.5.')\n"
     ]
    },
    {
     "data": {
      "text/plain": [
       "['지방공무원법',\n",
       " '일부',\n",
       " '개정',\n",
       " '법률',\n",
       " '안',\n",
       " '정의화',\n",
       " '의원',\n",
       " '대표',\n",
       " '발의',\n",
       " '의',\n",
       " '안',\n",
       " '번',\n",
       " '호',\n",
       " '발의',\n",
       " '연월일',\n",
       " '발',\n",
       " '의',\n",
       " '자',\n",
       " '정의화',\n",
       " '이명수',\n",
       " '김을동',\n",
       " '이사철',\n",
       " '여상규',\n",
       " '안규백',\n",
       " '황영철',\n",
       " '박영아',\n",
       " '김정훈',\n",
       " '김학송',\n",
       " '의원',\n",
       " '인',\n",
       " '제안',\n",
       " '이유',\n",
       " '및',\n",
       " '내용',\n",
       " '초등학교',\n",
       " '저학년',\n",
       " '경우',\n",
       " '부모',\n",
       " '사랑',\n",
       " '필요',\n",
       " '나이',\n",
       " '현재',\n",
       " '공무원',\n",
       " '자녀',\n",
       " '양육',\n",
       " '위',\n",
       " '육아휴직',\n",
       " '수',\n",
       " '자녀',\n",
       " '나이',\n",
       " '만',\n",
       " '세',\n",
       " '이하',\n",
       " '초등학교',\n",
       " '저학년',\n",
       " '자녀',\n",
       " '위',\n",
       " '해당',\n",
       " '부모님',\n",
       " '일자리',\n",
       " '곧',\n",
       " '출산',\n",
       " '의욕',\n",
       " '저하',\n",
       " '문제',\n",
       " '수',\n",
       " '것임',\n",
       " '따라서',\n",
       " '육아휴직',\n",
       " '자녀',\n",
       " '연령',\n",
       " '만',\n",
       " '세',\n",
       " '이하',\n",
       " '개정',\n",
       " '것임',\n",
       " '안',\n",
       " '제',\n",
       " '항제',\n",
       " '호',\n",
       " '법률',\n",
       " '제',\n",
       " '호',\n",
       " '지방공무원법',\n",
       " '일부',\n",
       " '개정',\n",
       " '법률',\n",
       " '안',\n",
       " '지방공무원법',\n",
       " '일부',\n",
       " '다음',\n",
       " '개정',\n",
       " '제',\n",
       " '항제',\n",
       " '호',\n",
       " '중',\n",
       " '만',\n",
       " '세',\n",
       " '이하',\n",
       " '초등학교',\n",
       " '취학',\n",
       " '전',\n",
       " '자녀',\n",
       " '만',\n",
       " '세',\n",
       " '이하',\n",
       " '취학',\n",
       " '중인',\n",
       " '경우',\n",
       " '초등학교',\n",
       " '학년',\n",
       " '이하',\n",
       " '말',\n",
       " '의',\n",
       " '자녀',\n",
       " '로',\n",
       " '부',\n",
       " '칙',\n",
       " '이',\n",
       " '법',\n",
       " '공포',\n",
       " '날',\n",
       " '시행',\n",
       " '신',\n",
       " '구조',\n",
       " '문대비',\n",
       " '표',\n",
       " '현',\n",
       " '행',\n",
       " '개',\n",
       " '정',\n",
       " '안',\n",
       " '제',\n",
       " '휴직',\n",
       " '생',\n",
       " '략',\n",
       " '제',\n",
       " '휴직',\n",
       " '현행',\n",
       " '공무원',\n",
       " '다음',\n",
       " '각',\n",
       " '호의',\n",
       " '느',\n",
       " '하나',\n",
       " '해당',\n",
       " '사유',\n",
       " '직',\n",
       " '임용',\n",
       " '휴직',\n",
       " '명',\n",
       " '수',\n",
       " '다만',\n",
       " '제',\n",
       " '호',\n",
       " '의',\n",
       " '경우',\n",
       " '대통령령',\n",
       " '정',\n",
       " '사정',\n",
       " '직',\n",
       " '명',\n",
       " '생',\n",
       " '략',\n",
       " '현행',\n",
       " '만',\n",
       " '세',\n",
       " '이하',\n",
       " '초등학교',\n",
       " '취',\n",
       " '만',\n",
       " '세',\n",
       " '이하',\n",
       " '취학',\n",
       " '중인',\n",
       " '경우',\n",
       " '학',\n",
       " '전',\n",
       " '자녀',\n",
       " '양육',\n",
       " '위',\n",
       " '초등학교',\n",
       " '학년',\n",
       " '이하',\n",
       " '여',\n",
       " '여자',\n",
       " '공무원',\n",
       " '말',\n",
       " '의',\n",
       " '자녀',\n",
       " '임신',\n",
       " '출산',\n",
       " '때',\n",
       " '생',\n",
       " '략',\n",
       " '생',\n",
       " '략',\n",
       " '현행',\n",
       " '현행',\n",
       " '지방공무원법',\n",
       " '일부',\n",
       " '개정',\n",
       " '법률',\n",
       " '안',\n",
       " '등',\n",
       " '비용',\n",
       " '추계',\n",
       " '첨부',\n",
       " '사유',\n",
       " '재정',\n",
       " '요인',\n",
       " '개정안',\n",
       " '국가공무원',\n",
       " '법',\n",
       " '제',\n",
       " '항제',\n",
       " '호',\n",
       " '중',\n",
       " '국가공무원',\n",
       " '육아',\n",
       " '휴직',\n",
       " '가능',\n",
       " '자녀',\n",
       " '연령',\n",
       " '만',\n",
       " '세',\n",
       " '이하',\n",
       " '만',\n",
       " '세',\n",
       " '이하',\n",
       " '방공',\n",
       " '무',\n",
       " '법',\n",
       " '제',\n",
       " '항제',\n",
       " '호',\n",
       " '중',\n",
       " '지방',\n",
       " '공무원',\n",
       " '육아휴직',\n",
       " '가능',\n",
       " '자녀',\n",
       " '연',\n",
       " '령',\n",
       " '만',\n",
       " '세',\n",
       " '이하',\n",
       " '만',\n",
       " '세',\n",
       " '이하',\n",
       " '교육',\n",
       " '공무원',\n",
       " '법',\n",
       " '제',\n",
       " '항',\n",
       " '제',\n",
       " '중',\n",
       " '교육',\n",
       " '공무원',\n",
       " '육아휴직',\n",
       " '가능',\n",
       " '자녀',\n",
       " '연령',\n",
       " '만',\n",
       " '세',\n",
       " '이하',\n",
       " '만',\n",
       " '세',\n",
       " '이하',\n",
       " '남녀',\n",
       " '고용',\n",
       " '평등',\n",
       " '일',\n",
       " '가정',\n",
       " '양립',\n",
       " '지원',\n",
       " '관',\n",
       " '법률',\n",
       " '제',\n",
       " '항',\n",
       " '중',\n",
       " '근로자',\n",
       " '육아휴직',\n",
       " '가능',\n",
       " '자녀',\n",
       " '연령',\n",
       " '만',\n",
       " '세',\n",
       " '이하',\n",
       " '만',\n",
       " '세',\n",
       " '이하',\n",
       " '조정',\n",
       " '함',\n",
       " '추가',\n",
       " '재정',\n",
       " '요가',\n",
       " '예상',\n",
       " '첨부',\n",
       " '근거',\n",
       " '규정',\n",
       " '의안',\n",
       " '비용',\n",
       " '추계',\n",
       " '관',\n",
       " '규칙',\n",
       " '제',\n",
       " '항',\n",
       " '단서',\n",
       " '중',\n",
       " '제',\n",
       " '호',\n",
       " '예상',\n",
       " '비용',\n",
       " '평균',\n",
       " '미만',\n",
       " '거나',\n",
       " '한시',\n",
       " '경비',\n",
       " '로서',\n",
       " '총',\n",
       " '미만',\n",
       " '경우',\n",
       " '해당',\n",
       " '함',\n",
       " '첨부',\n",
       " '사유',\n",
       " '개정안',\n",
       " '국가',\n",
       " '지방',\n",
       " '교육',\n",
       " '공무원',\n",
       " '및',\n",
       " '근로자',\n",
       " '육아휴직',\n",
       " '신청',\n",
       " '수',\n",
       " '자녀',\n",
       " '연령',\n",
       " '만',\n",
       " '세',\n",
       " '이하',\n",
       " '만',\n",
       " '세',\n",
       " '이하',\n",
       " '상향',\n",
       " '조정',\n",
       " '함',\n",
       " '추가',\n",
       " '재정',\n",
       " '요가',\n",
       " '예상',\n",
       " '법률',\n",
       " '개정안',\n",
       " '시행',\n",
       " '고',\n",
       " '가정',\n",
       " '경우',\n",
       " '현재',\n",
       " '자녀',\n",
       " '연령',\n",
       " '세이',\n",
       " '육아휴직',\n",
       " '신청',\n",
       " '국가',\n",
       " '지방',\n",
       " '교육',\n",
       " '공무원',\n",
       " '및',\n",
       " '근로자',\n",
       " '대상',\n",
       " '대상',\n",
       " '연령',\n",
       " '확대',\n",
       " '육아휴직',\n",
       " '신청',\n",
       " '수가',\n",
       " '정도',\n",
       " '것',\n",
       " '예상',\n",
       " '이',\n",
       " '경우',\n",
       " '발생',\n",
       " '비용',\n",
       " '현행법',\n",
       " '월',\n",
       " '이나',\n",
       " '현재',\n",
       " '관련',\n",
       " '법령',\n",
       " '개정',\n",
       " '추진',\n",
       " '이',\n",
       " '육아휴직',\n",
       " '지급',\n",
       " '월급',\n",
       " '액',\n",
       " '비례',\n",
       " '육아휴직',\n",
       " '여가',\n",
       " '지급',\n",
       " '기',\n",
       " '때문',\n",
       " '법령',\n",
       " '개정',\n",
       " '가정',\n",
       " '추계',\n",
       " '경우',\n",
       " '육아휴직',\n",
       " '급여',\n",
       " '액',\n",
       " '육아휴직',\n",
       " '지급',\n",
       " '월급',\n",
       " '여의',\n",
       " '해당',\n",
       " '육아휴직',\n",
       " '발생',\n",
       " '경우',\n",
       " '발생',\n",
       " '비용',\n",
       " '체인',\n",
       " '고용',\n",
       " '인건비',\n",
       " '육아휴직',\n",
       " '월급',\n",
       " '액',\n",
       " '이',\n",
       " '대비',\n",
       " '육아휴직',\n",
       " '지급',\n",
       " '임금',\n",
       " '더',\n",
       " '이상',\n",
       " '발생',\n",
       " '따라서',\n",
       " '실제',\n",
       " '발생',\n",
       " '비용',\n",
       " '육',\n",
       " '휴직',\n",
       " '지급',\n",
       " '월',\n",
       " '급여',\n",
       " '액',\n",
       " '연령',\n",
       " '확대',\n",
       " '발생',\n",
       " '비용',\n",
       " '인',\n",
       " '육아휴직',\n",
       " '월급',\n",
       " '액',\n",
       " '체인',\n",
       " '고용',\n",
       " '인건비',\n",
       " '차',\n",
       " '액',\n",
       " '이',\n",
       " '값',\n",
       " '추가',\n",
       " '재정',\n",
       " '소요',\n",
       " '발생',\n",
       " '볼',\n",
       " '수',\n",
       " '추가',\n",
       " '비용',\n",
       " '발생',\n",
       " '여부',\n",
       " '위',\n",
       " '비용',\n",
       " '대한',\n",
       " '리모',\n",
       " '델',\n",
       " '이',\n",
       " '비용',\n",
       " '발생',\n",
       " '여부',\n",
       " '하자',\n",
       " '모델',\n",
       " '사',\n",
       " '용',\n",
       " '변수',\n",
       " '다음',\n",
       " '정의',\n",
       " '발생',\n",
       " '비용',\n",
       " '육아휴직',\n",
       " '액',\n",
       " '육아휴직',\n",
       " '대상자',\n",
       " '수',\n",
       " '육아휴직',\n",
       " '대상자',\n",
       " '월급',\n",
       " '액',\n",
       " '육아휴직',\n",
       " '발생',\n",
       " '경우',\n",
       " '대체',\n",
       " '고용',\n",
       " '확률',\n",
       " '대체',\n",
       " '고용',\n",
       " '인력',\n",
       " '지급',\n",
       " '월급',\n",
       " '액',\n",
       " '위',\n",
       " '수식',\n",
       " '육아휴직',\n",
       " '액',\n",
       " '육아휴직',\n",
       " '월급',\n",
       " '액',\n",
       " '예정',\n",
       " '므',\n",
       " '육아휴직',\n",
       " '액',\n",
       " '육아휴직',\n",
       " '발생',\n",
       " '경우',\n",
       " '대체',\n",
       " '고용',\n",
       " '확률',\n",
       " '고용노동부',\n",
       " '육아휴직',\n",
       " '관련',\n",
       " '자료',\n",
       " '이용',\n",
       " '고용노동부',\n",
       " '경우',\n",
       " '육아휴직',\n",
       " '급여',\n",
       " '대상자',\n",
       " '명',\n",
       " '육아휴직',\n",
       " '체인',\n",
       " '고용',\n",
       " '상인',\n",
       " '명',\n",
       " '현황',\n",
       " '정리',\n",
       " '다음',\n",
       " '표',\n",
       " '표',\n",
       " '육아휴직',\n",
       " '급여',\n",
       " '수급',\n",
       " '수',\n",
       " '및',\n",
       " '체인',\n",
       " '고용',\n",
       " '현황',\n",
       " '단위',\n",
       " '명',\n",
       " '평균',\n",
       " '육아휴직',\n",
       " '급여',\n",
       " '수급',\n",
       " '체인',\n",
       " '채용',\n",
       " '비',\n",
       " '율',\n",
       " '자료',\n",
       " '고용노동부',\n",
       " '자료',\n",
       " '바탕',\n",
       " '국회예산정책처',\n",
       " '작성',\n",
       " '위',\n",
       " '표',\n",
       " '의',\n",
       " '자료',\n",
       " '육아휴직',\n",
       " '발생',\n",
       " '경우',\n",
       " '대체',\n",
       " '고용',\n",
       " '확률',\n",
       " '의',\n",
       " '값',\n",
       " '가정',\n",
       " '비용',\n",
       " '발생',\n",
       " '가정',\n",
       " '위',\n",
       " '의',\n",
       " '수식',\n",
       " '다시',\n",
       " '작성',\n",
       " '다음',\n",
       " '수식',\n",
       " '육아휴직',\n",
       " '액',\n",
       " '위',\n",
       " '수식',\n",
       " '육아휴직',\n",
       " '월',\n",
       " '급여',\n",
       " '액',\n",
       " '대입',\n",
       " '대체',\n",
       " '고용',\n",
       " '인력',\n",
       " '자',\n",
       " '지급',\n",
       " '월',\n",
       " '급여',\n",
       " '액',\n",
       " '추정',\n",
       " '육아휴직',\n",
       " '월',\n",
       " '원',\n",
       " '가정',\n",
       " '대체',\n",
       " '고용',\n",
       " '인력',\n",
       " '육아휴직',\n",
       " '월',\n",
       " '급여',\n",
       " '액',\n",
       " '배',\n",
       " '달',\n",
       " '월',\n",
       " '이상',\n",
       " '지급',\n",
       " '추가',\n",
       " '비용',\n",
       " '이',\n",
       " '발생',\n",
       " '대체',\n",
       " '고용',\n",
       " '인력',\n",
       " '육아휴직',\n",
       " '더',\n",
       " '월급',\n",
       " '액',\n",
       " '주지',\n",
       " '것',\n",
       " '배',\n",
       " '이상',\n",
       " '월급',\n",
       " '주지',\n",
       " '것',\n",
       " '이기',\n",
       " '때문',\n",
       " '추가',\n",
       " '비용',\n",
       " '발생',\n",
       " '보기',\n",
       " '위',\n",
       " '수식',\n",
       " '체인',\n",
       " '고용',\n",
       " '확률',\n",
       " '를',\n",
       " '로',\n",
       " '가정',\n",
       " '이',\n",
       " '경우',\n",
       " '육아휴직',\n",
       " '체인',\n",
       " '월',\n",
       " '이상',\n",
       " '지급',\n",
       " '추가',\n",
       " '비용',\n",
       " '발생',\n",
       " '행정안전부',\n",
       " '통계',\n",
       " '자료',\n",
       " '행정안전부',\n",
       " '통계',\n",
       " '연감',\n",
       " '지방',\n",
       " '공무원',\n",
       " '육',\n",
       " '휴직',\n",
       " '현황',\n",
       " '자료',\n",
       " '여기',\n",
       " '육아휴직',\n",
       " '발생',\n",
       " '경우',\n",
       " '체인',\n",
       " '주로',\n",
       " '임용',\n",
       " '기자',\n",
       " '일용직',\n",
       " '활용',\n",
       " '것',\n",
       " '따라서',\n",
       " '공무원',\n",
       " '경우',\n",
       " '표',\n",
       " '기업체',\n",
       " '체인',\n",
       " '고용',\n",
       " '확률',\n",
       " '것',\n",
       " '이상',\n",
       " '논의',\n",
       " '바탕',\n",
       " '육아휴직',\n",
       " '기간',\n",
       " '만',\n",
       " '만',\n",
       " '세로',\n",
       " '연장',\n",
       " '도',\n",
       " '법률',\n",
       " '개정',\n",
       " '추가',\n",
       " '비용',\n",
       " '발생',\n",
       " '것',\n",
       " '예상',\n",
       " '작성자',\n",
       " '국회예산정책처',\n",
       " '법안',\n",
       " '비용',\n",
       " '추계',\n",
       " '팀',\n",
       " '팀',\n",
       " '장',\n",
       " '정',\n",
       " '문',\n",
       " '종',\n",
       " '예산',\n",
       " '분석관',\n",
       " '김',\n",
       " '태',\n",
       " '완']"
      ]
     },
     "execution_count": 29,
     "metadata": {},
     "output_type": "execute_result"
    }
   ],
   "source": [
    "from konlpy.tag import Twitter; t= Twitter()\n",
    "tokens_ko = t.nouns(doc_ko)\n",
    "tokens_ko"
   ]
  },
  {
   "cell_type": "markdown",
   "id": "529f9a62",
   "metadata": {},
   "source": [
    "그리고 수집된 단어의 횟수(len(ko.tokens))와 고유한 횟수 (len(set(ko.token))) 를 확인한다."
   ]
  },
  {
   "cell_type": "code",
   "execution_count": 30,
   "id": "ce1235e9",
   "metadata": {},
   "outputs": [],
   "source": [
    "ko = nltk.Text(tokens_ko, name='대한민국 국회 의안 제 1809890호')"
   ]
  },
  {
   "cell_type": "code",
   "execution_count": 31,
   "id": "61ccf300",
   "metadata": {},
   "outputs": [
    {
     "name": "stdout",
     "output_type": "stream",
     "text": [
      "735\n",
      "250\n"
     ]
    },
    {
     "data": {
      "text/plain": [
       "FreqDist({'육아휴직': 38, '발생': 19, '만': 18, '이하': 18, '비용': 17, '액': 17, '경우': 16, '세': 16, '자녀': 14, '고용': 14, ...})"
      ]
     },
     "execution_count": 31,
     "metadata": {},
     "output_type": "execute_result"
    }
   ],
   "source": [
    "print(len(ko.tokens))     #returns number of token (document length)\n",
    "print(len(set(ko.tokens)))  #return number of unique tokens\n",
    "ko.vocab()  # return frequency distribution\n"
   ]
  },
  {
   "cell_type": "code",
   "execution_count": 32,
   "id": "4e1797da",
   "metadata": {},
   "outputs": [
    {
     "name": "stdout",
     "output_type": "stream",
     "text": [
      "Linux version\n"
     ]
    }
   ],
   "source": [
    "import platform\n",
    "\n",
    "from matplotlib import font_manager, rc\n",
    "plt.rcParams['axes.unicode_minus'] = False\n",
    "\n",
    "if platform.system() == 'Darwin':\n",
    "    rc('font', family='AppleGothic')\n",
    "    print('Mac version')\n",
    "elif platform.system() == 'Windows':\n",
    "    path = \"c:/Windows/Fonts/malgun.ttf\"\n",
    "    font_name = font_manager.FontProperties(fname=path).get_name()\n",
    "    rc('font', family=font_name)\n",
    "    print('Windows version')\n",
    "elif platform.system() == 'Linux':\n",
    "    path = \"/usr/share/fonts/NanumFont/NanumGothicBold.ttf\"\n",
    "    font_name = font_manager.FontProperties(fname=path).get_name()\n",
    "    plt.rc('font', family=font_name)\n",
    "    print('Linux version')\n",
    "else:\n",
    "    print('Unknown system... sorry~~~~')"
   ]
  },
  {
   "cell_type": "code",
   "execution_count": 33,
   "id": "2b81f253",
   "metadata": {},
   "outputs": [
    {
     "data": {
      "image/png": "[encoded data removed]",
      "text/plain": [
       "<Figure size 1008x576 with 1 Axes>"
      ]
     },
     "metadata": {
      "needs_background": "light"
     },
     "output_type": "display_data"
    }
   ],
   "source": [
    "# import matplotlib.pyplot as plt\n",
    "# import platform\n",
    "\n",
    "# path = \"c:/Windows/Fonts/malgun.ttf\"\n",
    "# from matplotlib import font_manager, rc\n",
    "# if platform.system() == 'Darwin':\n",
    "#     re('font', family='AppleGothic')\n",
    "# elif platform.system() == 'Windows':\n",
    "#     font_name = font_manager.FontProperties(fname=path).get_name()\n",
    "#     rc('font', family = font_name)\n",
    "#     print('Unknown system... sorry~~~~')\n",
    "# else:\n",
    "#     print('Unknown system... sorry~~~~')\n",
    "        \n",
    "# %matplotlib inline\n",
    "\n",
    "\n",
    "plt.figure(figsize=(14,8))\n",
    "ko.plot(50)\n",
    "plt.show()"
   ]
  },
  {
   "cell_type": "markdown",
   "id": "89ade12e",
   "metadata": {},
   "source": [
    "많이 등장한 순으로 plot 해볼 수 있다. 당연하겠지만 '육아휴직'이라는 단어가 많이 등장한다. 그런데 약간 의미 없는 단어도 보인다. 한글은 영어와 달리 sropwords를 지정하기 쉽지 않다. 그래서 case-by-case로 지정하겠다"
   ]
  },
  {
   "cell_type": "code",
   "execution_count": 34,
   "id": "e2d53577",
   "metadata": {},
   "outputs": [
    {
     "data": {
      "text/plain": [
       "['지방공무원법',\n",
       " '일부',\n",
       " '개정',\n",
       " '법률',\n",
       " '정의화',\n",
       " '의원',\n",
       " '대표',\n",
       " '발의',\n",
       " '발의',\n",
       " '연월일',\n",
       " '발',\n",
       " '정의화',\n",
       " '이명수',\n",
       " '김을동',\n",
       " '이사철',\n",
       " '여상규',\n",
       " '안규백',\n",
       " '황영철',\n",
       " '박영아',\n",
       " '김정훈',\n",
       " '김학송',\n",
       " '의원',\n",
       " '인',\n",
       " '제안',\n",
       " '이유',\n",
       " '및',\n",
       " '내용',\n",
       " '초등학교',\n",
       " '저학년',\n",
       " '경우',\n",
       " '부모',\n",
       " '사랑',\n",
       " '필요',\n",
       " '나이',\n",
       " '현재',\n",
       " '공무원',\n",
       " '자녀',\n",
       " '양육',\n",
       " '위',\n",
       " '육아휴직',\n",
       " '수',\n",
       " '자녀',\n",
       " '나이',\n",
       " '세',\n",
       " '이하',\n",
       " '초등학교',\n",
       " '저학년',\n",
       " '자녀',\n",
       " '위',\n",
       " '해당',\n",
       " '부모님',\n",
       " '일자리',\n",
       " '곧',\n",
       " '출산',\n",
       " '의욕',\n",
       " '저하',\n",
       " '문제',\n",
       " '수',\n",
       " '것임',\n",
       " '따라서',\n",
       " '육아휴직',\n",
       " '자녀',\n",
       " '연령',\n",
       " '세',\n",
       " '이하',\n",
       " '개정',\n",
       " '것임',\n",
       " '제',\n",
       " '항제',\n",
       " '법률',\n",
       " '제',\n",
       " '지방공무원법',\n",
       " '일부',\n",
       " '개정',\n",
       " '법률',\n",
       " '지방공무원법',\n",
       " '일부',\n",
       " '다음',\n",
       " '개정',\n",
       " '제',\n",
       " '항제',\n",
       " '중',\n",
       " '세',\n",
       " '이하',\n",
       " '초등학교',\n",
       " '취학',\n",
       " '전',\n",
       " '자녀',\n",
       " '세',\n",
       " '이하',\n",
       " '취학',\n",
       " '중인',\n",
       " '경우',\n",
       " '초등학교',\n",
       " '학년',\n",
       " '이하',\n",
       " '말',\n",
       " '자녀',\n",
       " '부',\n",
       " '칙',\n",
       " '법',\n",
       " '공포',\n",
       " '날',\n",
       " '시행',\n",
       " '신',\n",
       " '구조',\n",
       " '문대비',\n",
       " '표',\n",
       " '현',\n",
       " '행',\n",
       " '개',\n",
       " '정',\n",
       " '제',\n",
       " '휴직',\n",
       " '생',\n",
       " '략',\n",
       " '제',\n",
       " '휴직',\n",
       " '현행',\n",
       " '공무원',\n",
       " '다음',\n",
       " '각',\n",
       " '호의',\n",
       " '느',\n",
       " '하나',\n",
       " '해당',\n",
       " '사유',\n",
       " '직',\n",
       " '임용',\n",
       " '휴직',\n",
       " '명',\n",
       " '수',\n",
       " '다만',\n",
       " '제',\n",
       " '경우',\n",
       " '대통령령',\n",
       " '정',\n",
       " '사정',\n",
       " '직',\n",
       " '명',\n",
       " '생',\n",
       " '략',\n",
       " '현행',\n",
       " '세',\n",
       " '이하',\n",
       " '초등학교',\n",
       " '취',\n",
       " '세',\n",
       " '이하',\n",
       " '취학',\n",
       " '중인',\n",
       " '경우',\n",
       " '학',\n",
       " '전',\n",
       " '자녀',\n",
       " '양육',\n",
       " '위',\n",
       " '초등학교',\n",
       " '학년',\n",
       " '이하',\n",
       " '여',\n",
       " '여자',\n",
       " '공무원',\n",
       " '말',\n",
       " '자녀',\n",
       " '임신',\n",
       " '출산',\n",
       " '때',\n",
       " '생',\n",
       " '략',\n",
       " '생',\n",
       " '략',\n",
       " '현행',\n",
       " '현행',\n",
       " '지방공무원법',\n",
       " '일부',\n",
       " '개정',\n",
       " '법률',\n",
       " '등',\n",
       " '비용',\n",
       " '추계',\n",
       " '첨부',\n",
       " '사유',\n",
       " '재정',\n",
       " '요인',\n",
       " '개정안',\n",
       " '국가공무원',\n",
       " '법',\n",
       " '제',\n",
       " '항제',\n",
       " '중',\n",
       " '국가공무원',\n",
       " '육아',\n",
       " '휴직',\n",
       " '가능',\n",
       " '자녀',\n",
       " '연령',\n",
       " '세',\n",
       " '이하',\n",
       " '세',\n",
       " '이하',\n",
       " '방공',\n",
       " '무',\n",
       " '법',\n",
       " '제',\n",
       " '항제',\n",
       " '중',\n",
       " '지방',\n",
       " '공무원',\n",
       " '육아휴직',\n",
       " '가능',\n",
       " '자녀',\n",
       " '연',\n",
       " '령',\n",
       " '세',\n",
       " '이하',\n",
       " '세',\n",
       " '이하',\n",
       " '교육',\n",
       " '공무원',\n",
       " '법',\n",
       " '제',\n",
       " '항',\n",
       " '제',\n",
       " '중',\n",
       " '교육',\n",
       " '공무원',\n",
       " '육아휴직',\n",
       " '가능',\n",
       " '자녀',\n",
       " '연령',\n",
       " '세',\n",
       " '이하',\n",
       " '세',\n",
       " '이하',\n",
       " '남녀',\n",
       " '고용',\n",
       " '평등',\n",
       " '일',\n",
       " '가정',\n",
       " '양립',\n",
       " '지원',\n",
       " '관',\n",
       " '법률',\n",
       " '제',\n",
       " '항',\n",
       " '중',\n",
       " '근로자',\n",
       " '육아휴직',\n",
       " '가능',\n",
       " '자녀',\n",
       " '연령',\n",
       " '세',\n",
       " '이하',\n",
       " '세',\n",
       " '이하',\n",
       " '조정',\n",
       " '함',\n",
       " '추가',\n",
       " '재정',\n",
       " '요가',\n",
       " '예상',\n",
       " '첨부',\n",
       " '근거',\n",
       " '규정',\n",
       " '의안',\n",
       " '비용',\n",
       " '추계',\n",
       " '관',\n",
       " '규칙',\n",
       " '제',\n",
       " '항',\n",
       " '단서',\n",
       " '중',\n",
       " '제',\n",
       " '예상',\n",
       " '비용',\n",
       " '평균',\n",
       " '미만',\n",
       " '거나',\n",
       " '한시',\n",
       " '경비',\n",
       " '로서',\n",
       " '총',\n",
       " '미만',\n",
       " '경우',\n",
       " '해당',\n",
       " '함',\n",
       " '첨부',\n",
       " '사유',\n",
       " '개정안',\n",
       " '국가',\n",
       " '지방',\n",
       " '교육',\n",
       " '공무원',\n",
       " '및',\n",
       " '근로자',\n",
       " '육아휴직',\n",
       " '신청',\n",
       " '수',\n",
       " '자녀',\n",
       " '연령',\n",
       " '세',\n",
       " '이하',\n",
       " '세',\n",
       " '이하',\n",
       " '상향',\n",
       " '조정',\n",
       " '함',\n",
       " '추가',\n",
       " '재정',\n",
       " '요가',\n",
       " '예상',\n",
       " '법률',\n",
       " '개정안',\n",
       " '시행',\n",
       " '고',\n",
       " '가정',\n",
       " '경우',\n",
       " '현재',\n",
       " '자녀',\n",
       " '연령',\n",
       " '세이',\n",
       " '육아휴직',\n",
       " '신청',\n",
       " '국가',\n",
       " '지방',\n",
       " '교육',\n",
       " '공무원',\n",
       " '및',\n",
       " '근로자',\n",
       " '대상',\n",
       " '대상',\n",
       " '연령',\n",
       " '확대',\n",
       " '육아휴직',\n",
       " '신청',\n",
       " '수가',\n",
       " '정도',\n",
       " '것',\n",
       " '예상',\n",
       " '경우',\n",
       " '발생',\n",
       " '비용',\n",
       " '현행법',\n",
       " '월',\n",
       " '이나',\n",
       " '현재',\n",
       " '관련',\n",
       " '법령',\n",
       " '개정',\n",
       " '추진',\n",
       " '육아휴직',\n",
       " '지급',\n",
       " '월급',\n",
       " '액',\n",
       " '비례',\n",
       " '육아휴직',\n",
       " '여가',\n",
       " '지급',\n",
       " '기',\n",
       " '때문',\n",
       " '법령',\n",
       " '개정',\n",
       " '가정',\n",
       " '추계',\n",
       " '경우',\n",
       " '육아휴직',\n",
       " '급여',\n",
       " '액',\n",
       " '육아휴직',\n",
       " '지급',\n",
       " '월급',\n",
       " '여의',\n",
       " '해당',\n",
       " '육아휴직',\n",
       " '발생',\n",
       " '경우',\n",
       " '발생',\n",
       " '비용',\n",
       " '체인',\n",
       " '고용',\n",
       " '인건비',\n",
       " '육아휴직',\n",
       " '월급',\n",
       " '액',\n",
       " '대비',\n",
       " '육아휴직',\n",
       " '지급',\n",
       " '임금',\n",
       " '더',\n",
       " '이상',\n",
       " '발생',\n",
       " '따라서',\n",
       " '실제',\n",
       " '발생',\n",
       " '비용',\n",
       " '육',\n",
       " '휴직',\n",
       " '지급',\n",
       " '월',\n",
       " '급여',\n",
       " '액',\n",
       " '연령',\n",
       " '확대',\n",
       " '발생',\n",
       " '비용',\n",
       " '인',\n",
       " '육아휴직',\n",
       " '월급',\n",
       " '액',\n",
       " '체인',\n",
       " '고용',\n",
       " '인건비',\n",
       " '차',\n",
       " '액',\n",
       " '값',\n",
       " '추가',\n",
       " '재정',\n",
       " '소요',\n",
       " '발생',\n",
       " '볼',\n",
       " '수',\n",
       " '추가',\n",
       " '비용',\n",
       " '발생',\n",
       " '여부',\n",
       " '위',\n",
       " '비용',\n",
       " '대한',\n",
       " '리모',\n",
       " '델',\n",
       " '비용',\n",
       " '발생',\n",
       " '여부',\n",
       " '하자',\n",
       " '모델',\n",
       " '사',\n",
       " '용',\n",
       " '변수',\n",
       " '다음',\n",
       " '정의',\n",
       " '발생',\n",
       " '비용',\n",
       " '육아휴직',\n",
       " '액',\n",
       " '육아휴직',\n",
       " '대상자',\n",
       " '수',\n",
       " '육아휴직',\n",
       " '대상자',\n",
       " '월급',\n",
       " '액',\n",
       " '육아휴직',\n",
       " '발생',\n",
       " '경우',\n",
       " '대체',\n",
       " '고용',\n",
       " '확률',\n",
       " '대체',\n",
       " '고용',\n",
       " '인력',\n",
       " '지급',\n",
       " '월급',\n",
       " '액',\n",
       " '위',\n",
       " '수식',\n",
       " '육아휴직',\n",
       " '액',\n",
       " '육아휴직',\n",
       " '월급',\n",
       " '액',\n",
       " '예정',\n",
       " '므',\n",
       " '육아휴직',\n",
       " '액',\n",
       " '육아휴직',\n",
       " '발생',\n",
       " '경우',\n",
       " '대체',\n",
       " '고용',\n",
       " '확률',\n",
       " '고용노동부',\n",
       " '육아휴직',\n",
       " '관련',\n",
       " '자료',\n",
       " '이용',\n",
       " '고용노동부',\n",
       " '경우',\n",
       " '육아휴직',\n",
       " '급여',\n",
       " '대상자',\n",
       " '명',\n",
       " '육아휴직',\n",
       " '체인',\n",
       " '고용',\n",
       " '상인',\n",
       " '명',\n",
       " '현황',\n",
       " '정리',\n",
       " '다음',\n",
       " '표',\n",
       " '표',\n",
       " '육아휴직',\n",
       " '급여',\n",
       " '수급',\n",
       " '수',\n",
       " '및',\n",
       " '체인',\n",
       " '고용',\n",
       " '현황',\n",
       " '단위',\n",
       " '명',\n",
       " '평균',\n",
       " '육아휴직',\n",
       " '급여',\n",
       " '수급',\n",
       " '체인',\n",
       " '채용',\n",
       " '비',\n",
       " '율',\n",
       " '자료',\n",
       " '고용노동부',\n",
       " '자료',\n",
       " '바탕',\n",
       " '국회예산정책처',\n",
       " '작성',\n",
       " '위',\n",
       " '표',\n",
       " '자료',\n",
       " '육아휴직',\n",
       " '발생',\n",
       " '경우',\n",
       " '대체',\n",
       " '고용',\n",
       " '확률',\n",
       " '값',\n",
       " '가정',\n",
       " '비용',\n",
       " '발생',\n",
       " '가정',\n",
       " '위',\n",
       " '수식',\n",
       " '다시',\n",
       " '작성',\n",
       " '다음',\n",
       " '수식',\n",
       " '육아휴직',\n",
       " '액',\n",
       " '위',\n",
       " '수식',\n",
       " '육아휴직',\n",
       " '월',\n",
       " '급여',\n",
       " '액',\n",
       " '대입',\n",
       " '대체',\n",
       " '고용',\n",
       " '인력',\n",
       " '지급',\n",
       " '월',\n",
       " '급여',\n",
       " '액',\n",
       " '추정',\n",
       " '육아휴직',\n",
       " '월',\n",
       " '원',\n",
       " '가정',\n",
       " '대체',\n",
       " '고용',\n",
       " '인력',\n",
       " '육아휴직',\n",
       " '월',\n",
       " '급여',\n",
       " '액',\n",
       " '배',\n",
       " '달',\n",
       " '월',\n",
       " '이상',\n",
       " '지급',\n",
       " '추가',\n",
       " '비용',\n",
       " '발생',\n",
       " '대체',\n",
       " '고용',\n",
       " '인력',\n",
       " '육아휴직',\n",
       " '더',\n",
       " '월급',\n",
       " '액',\n",
       " '주지',\n",
       " '것',\n",
       " '배',\n",
       " '이상',\n",
       " '월급',\n",
       " '주지',\n",
       " '것',\n",
       " '이기',\n",
       " '때문',\n",
       " '추가',\n",
       " '비용',\n",
       " '발생',\n",
       " '보기',\n",
       " '위',\n",
       " '수식',\n",
       " '체인',\n",
       " '고용',\n",
       " '확률',\n",
       " '가정',\n",
       " '경우',\n",
       " '육아휴직',\n",
       " '체인',\n",
       " '월',\n",
       " '이상',\n",
       " '지급',\n",
       " '추가',\n",
       " '비용',\n",
       " '발생',\n",
       " '행정안전부',\n",
       " '통계',\n",
       " '자료',\n",
       " '행정안전부',\n",
       " '통계',\n",
       " '연감',\n",
       " '지방',\n",
       " '공무원',\n",
       " '육',\n",
       " '휴직',\n",
       " '현황',\n",
       " '자료',\n",
       " '여기',\n",
       " '육아휴직',\n",
       " '발생',\n",
       " '경우',\n",
       " '체인',\n",
       " '주로',\n",
       " '임용',\n",
       " '기자',\n",
       " '일용직',\n",
       " '활용',\n",
       " '것',\n",
       " '따라서',\n",
       " '공무원',\n",
       " '경우',\n",
       " '표',\n",
       " '기업체',\n",
       " '체인',\n",
       " '고용',\n",
       " '확률',\n",
       " '것',\n",
       " '이상',\n",
       " '논의',\n",
       " '바탕',\n",
       " '육아휴직',\n",
       " '기간',\n",
       " '세로',\n",
       " '연장',\n",
       " '도',\n",
       " '법률',\n",
       " '개정',\n",
       " '추가',\n",
       " '비용',\n",
       " '발생',\n",
       " '것',\n",
       " '예상',\n",
       " '작성자',\n",
       " '국회예산정책처',\n",
       " '법안',\n",
       " '비용',\n",
       " '추계',\n",
       " '팀',\n",
       " '팀',\n",
       " '장',\n",
       " '정',\n",
       " '문',\n",
       " '종',\n",
       " '예산',\n",
       " '분석관',\n",
       " '김',\n",
       " '태',\n",
       " '완']"
      ]
     },
     "execution_count": 34,
     "metadata": {},
     "output_type": "execute_result"
    }
   ],
   "source": [
    "stop_words = ['.','(',')',',',\"'\",'%','-','X', ').',\n",
    "              'x','의','자','에','안','번',\n",
    "              '호','을','이','다','만','로','가','를']\n",
    "ko = [each_word for each_word in ko if each_word not in stop_words]\n",
    "ko"
   ]
  },
  {
   "cell_type": "markdown",
   "id": "61d71f81",
   "metadata": {},
   "source": [
    "그리고 난 후 다시 그려보겠다."
   ]
  },
  {
   "cell_type": "code",
   "execution_count": 35,
   "id": "7beefae6",
   "metadata": {},
   "outputs": [
    {
     "data": {
      "image/png": "[encoded data removed]",
      "text/plain": [
       "<Figure size 1008x576 with 1 Axes>"
      ]
     },
     "metadata": {
      "needs_background": "light"
     },
     "output_type": "display_data"
    }
   ],
   "source": [
    "ko = nltk.Text(tokens_ko, name='대한민국 국회 의안 제 1809890호')\n",
    "\n",
    "plt.figure(figsize=(14,8))\n",
    "ko.plot(50)\n",
    "plt.show()"
   ]
  },
  {
   "cell_type": "markdown",
   "id": "461a1ba4",
   "metadata": {},
   "source": [
    "이제 조금 더 좋아 보인다. 좀더 stop_words 변수에 의미 없어 보이는 단어를 추가하면 된다."
   ]
  },
  {
   "cell_type": "code",
   "execution_count": 36,
   "id": "3a85674b",
   "metadata": {},
   "outputs": [
    {
     "data": {
      "text/plain": [
       "6"
      ]
     },
     "execution_count": 36,
     "metadata": {},
     "output_type": "execute_result"
    }
   ],
   "source": [
    "ko.count('초등학교')"
   ]
  },
  {
   "cell_type": "markdown",
   "id": "7b6e6ed6",
   "metadata": {},
   "source": [
    "어떤 단어가 문서 내에서 몇 번 언급되었는지 확인할 수 있다."
   ]
  },
  {
   "cell_type": "code",
   "execution_count": 37,
   "id": "c09fcb07",
   "metadata": {},
   "outputs": [
    {
     "name": "stderr",
     "output_type": "stream",
     "text": [
      "/home/ubuntu/.local/lib/python3.6/site-packages/nltk/draw/__init__.py:15: UserWarning: nltk.draw package not loaded (please install Tkinter library).\n",
      "  warnings.warn(\"nltk.draw package not loaded (please install Tkinter library).\")\n"
     ]
    },
    {
     "data": {
      "image/png": "[encoded data removed]",
      "text/plain": [
       "<Figure size 864x432 with 1 Axes>"
      ]
     },
     "metadata": {
      "needs_background": "light"
     },
     "output_type": "display_data"
    }
   ],
   "source": [
    "plt.figure(figsize=(12,6))\n",
    "ko.dispersion_plot(['육아휴직','초등학교','공무원'])"
   ]
  },
  {
   "cell_type": "markdown",
   "id": "07432448",
   "metadata": {},
   "source": [
    "또한 원하는 단어의 문서 내 위치를 개략적으로 그 분량과 함께 알 수 있다."
   ]
  },
  {
   "cell_type": "code",
   "execution_count": 38,
   "id": "71f32aa3",
   "metadata": {},
   "outputs": [
    {
     "name": "stdout",
     "output_type": "stream",
     "text": [
      "Displaying 6 of 6 matches:\n",
      " 안규백 황영철 박영아 김정훈 김학송 의원 인 제안 이유 및 내용 초등학교 저학년 경우 부모 사랑 필요 나이 현재 공무원 자녀 양육 위 육아\n",
      "이 현재 공무원 자녀 양육 위 육아휴직 수 자녀 나이 만 세 이하 초등학교 저학년 자녀 위 해당 부모님 일자리 곧 출산 의욕 저하 문제 수 \n",
      "법률 안 지방공무원법 일부 다음 개정 제 항제 호 중 만 세 이하 초등학교 취학 전 자녀 만 세 이하 취학 중인 경우 초등학교 학년 이하 말\n",
      " 만 세 이하 초등학교 취학 전 자녀 만 세 이하 취학 중인 경우 초등학교 학년 이하 말 의 자녀 로 부 칙 이 법 공포 날 시행 신 구조 \n",
      "제 호 의 경우 대통령령 정 사정 직 명 생 략 현행 만 세 이하 초등학교 취 만 세 이하 취학 중인 경우 학 전 자녀 양육 위 초등학교 학\n",
      "하 초등학교 취 만 세 이하 취학 중인 경우 학 전 자녀 양육 위 초등학교 학년 이하 여 여자 공무원 말 의 자녀 임신 출산 때 생 략 생 \n"
     ]
    }
   ],
   "source": [
    "ko.concordance('초등학교')"
   ]
  },
  {
   "cell_type": "markdown",
   "id": "75734ac4",
   "metadata": {},
   "source": [
    "원하는 단어의 주변부 단어까지 같이 확인할 수 있다. 또 문서 내에서 어떤 단어들이 연어(collocation)로 사용되었는지 알 수 있다."
   ]
  },
  {
   "cell_type": "code",
   "execution_count": 39,
   "id": "964b6092",
   "metadata": {},
   "outputs": [
    {
     "name": "stdout",
     "output_type": "stream",
     "text": [
      "초등학교 저학년; 근로자 육아휴직; 육아휴직 대상자; 공무원 육아휴직\n"
     ]
    }
   ],
   "source": [
    "# import nltk\n",
    "# nltk.download('stopwords')\n",
    "ko.collocations()"
   ]
  },
  {
   "cell_type": "markdown",
   "id": "f3ab2a01",
   "metadata": {},
   "source": [
    "그리고 앞 절에서 학습한 워드 클라우드를 적용해보자"
   ]
  },
  {
   "cell_type": "code",
   "execution_count": 40,
   "id": "2f3a970c",
   "metadata": {},
   "outputs": [
    {
     "data": {
      "image/png": "[encoded data removed]",
      "text/plain": [
       "<Figure size 864x576 with 1 Axes>"
      ]
     },
     "metadata": {
      "needs_background": "light"
     },
     "output_type": "display_data"
    }
   ],
   "source": [
    "data = ko.vocab().most_common(150)\n",
    "\n",
    "wordcloud = WordCloud(font_path= '/usr/share/fonts/NanumFont/NanumGothicBold.ttf',\n",
    "                      relative_scaling = 0.2,\n",
    "                      background_color='white',\n",
    "                      ).generate_from_frequencies(dict(data))\n",
    "\n",
    "plt.figure(figsize=(12,8))\n",
    "plt.imshow(wordcloud)\n",
    "plt.axis(\"off\")\n",
    "plt.show()"
   ]
  },
  {
   "cell_type": "markdown",
   "id": "9def5f42",
   "metadata": {},
   "source": [
    "### 8-5 Naive Bayes Classifier 의 이해 - 영문\n",
    "정말 심플한 분류기가 있다. 뭐 지도학습의 한 종류이면서 두 사건을 서로 독립이라고 가정하고 각각의 조건부확률을 어떻게 한다는 개념입니다만, 이책에서는 예제를 통해 이 분류기의 특성을 확인하고 간편하게 사용해보도록 하겠다. 예를 들어보겠다. 지도학습이니까 긍정(pos),부정(neg)이라는 태그가 있다. i like you는 긍정이지만, you like me는 부정이다. 이 두 문장만 보면 i가 등장할 때는 긍정이다. like는 판단 못하겠다.\n",
    "이제 뭔가 느껴지나요?"
   ]
  },
  {
   "cell_type": "code",
   "execution_count": 41,
   "id": "272e624b",
   "metadata": {},
   "outputs": [],
   "source": [
    "from nltk.tokenize import word_tokenize\n",
    "import nltk"
   ]
  },
  {
   "cell_type": "markdown",
   "id": "24253882",
   "metadata": {},
   "source": [
    "일단 필요한 모듈 가지고 온다. 연습용(train) 데이터를 딱 4개의 문장만으로 입력해보자."
   ]
  },
  {
   "cell_type": "code",
   "execution_count": 42,
   "id": "b680f9cc",
   "metadata": {},
   "outputs": [],
   "source": [
    "train = [('i like you', 'pos'),\n",
    "        ('i hate you', 'neg'),\n",
    "        ('you like me', 'neg'),\n",
    "        ('i like her', 'pos')]"
   ]
  },
  {
   "cell_type": "markdown",
   "id": "20edd545",
   "metadata": {},
   "source": [
    "그리고 위 코드의 train 문장에서 사용된 전체 단어를 찾는다."
   ]
  },
  {
   "cell_type": "code",
   "execution_count": 55,
   "id": "97bf5a45",
   "metadata": {},
   "outputs": [
    {
     "data": {
      "text/plain": [
       "{'hate', 'her', 'i', 'like', 'me', 'you'}"
      ]
     },
     "execution_count": 55,
     "metadata": {},
     "output_type": "execute_result"
    }
   ],
   "source": [
    "import nltk\n",
    "#nltk.download('punkt')\n",
    "\n",
    "all_words = set(word.lower() for sentence in train\n",
    "                                  for word in word_tokenize(sentence[0]))\n",
    "all_words"
   ]
  },
  {
   "cell_type": "markdown",
   "id": "52a4ac6c",
   "metadata": {},
   "source": [
    "위 코드의 결과를 비록 너무 작은 수의 단어이지만 '말뭉치'라고 해두자."
   ]
  },
  {
   "cell_type": "code",
   "execution_count": 56,
   "id": "174cc80a",
   "metadata": {},
   "outputs": [
    {
     "data": {
      "text/plain": [
       "[({'like': True,\n",
       "   'hate': False,\n",
       "   'me': False,\n",
       "   'her': False,\n",
       "   'you': True,\n",
       "   'i': True},\n",
       "  'pos'),\n",
       " ({'like': False,\n",
       "   'hate': True,\n",
       "   'me': False,\n",
       "   'her': False,\n",
       "   'you': True,\n",
       "   'i': True},\n",
       "  'neg'),\n",
       " ({'like': True,\n",
       "   'hate': False,\n",
       "   'me': True,\n",
       "   'her': False,\n",
       "   'you': True,\n",
       "   'i': False},\n",
       "  'neg'),\n",
       " ({'like': True,\n",
       "   'hate': False,\n",
       "   'me': False,\n",
       "   'her': True,\n",
       "   'you': False,\n",
       "   'i': True},\n",
       "  'pos')]"
      ]
     },
     "execution_count": 56,
     "metadata": {},
     "output_type": "execute_result"
    }
   ],
   "source": [
    "t = [({word: (word in word_tokenize(x[0])) for word in all_words}, x[1]) for x in train]\n",
    "t"
   ]
  },
  {
   "cell_type": "markdown",
   "id": "a1570eab",
   "metadata": {},
   "source": [
    "즉, train의 첫 문장인 \"i like you\"의 경우 말뭉치 단어[hate, her, i, like, me, you]를 기준으로 해당 단어가 있는지 없는지를 기록해둔 것이다. 그래서 코드의 결과 첫 부분만 해석하면 train문장의 첫문장에는 hate는 없고 (False), her도 없고 (False),i는 있다 (True)는 뜻이다. 이제 이를 이용해서 naive Bayes 분류기를 동작시키도록 한다."
   ]
  },
  {
   "cell_type": "code",
   "execution_count": 57,
   "id": "875388fe",
   "metadata": {},
   "outputs": [
    {
     "name": "stdout",
     "output_type": "stream",
     "text": [
      "Most Informative Features\n",
      "                    hate = False             pos : neg    =      1.7 : 1.0\n",
      "                     her = False             neg : pos    =      1.7 : 1.0\n",
      "                       i = True              pos : neg    =      1.7 : 1.0\n",
      "                    like = True              pos : neg    =      1.7 : 1.0\n",
      "                      me = False             pos : neg    =      1.7 : 1.0\n",
      "                     you = True              neg : pos    =      1.7 : 1.0\n"
     ]
    }
   ],
   "source": [
    "classifier = nltk.NaiveBayesClassifier.train(t)\n",
    "classifier.show_most_informative_features()"
   ]
  },
  {
   "cell_type": "markdown",
   "id": "05712c3e",
   "metadata": {},
   "source": [
    "이 코드의 결과를 잘 이해하면 Naive Bayes 분류기를 이해하기 편하다. Train 문장에 붙은 긍정/부정 태그를 이용해서 분류한 결과 'hate'라는 단어가 없을때 (False) 긍정일 비율이 1.7:1 이라는 의미이다. 'like'라는 단어가 총 세번 사용되었고, 그 중 2개 문장이 긍정의 의미였다. 그래서 'like'가 있을때 (True)긍정일 확률이 1.7:1이다. 문장이 4개뿐이라서 전체 단어를 놓고 생각하기 어렵지 않을 것이다."
   ]
  },
  {
   "cell_type": "code",
   "execution_count": 59,
   "id": "3410d6e6",
   "metadata": {},
   "outputs": [
    {
     "data": {
      "text/plain": [
       "{'like': True,\n",
       " 'hate': False,\n",
       " 'me': False,\n",
       " 'her': False,\n",
       " 'you': False,\n",
       " 'i': True}"
      ]
     },
     "execution_count": 59,
     "metadata": {},
     "output_type": "execute_result"
    }
   ],
   "source": [
    "test_sentence = 'i like MeRui'\n",
    "test_sent_features = {word.lower():\n",
    "                     (word in word_tokenize(test_sentence.lower()))\n",
    "                     for word in all_words}\n",
    "\n",
    "test_sent_features"
   ]
  },
  {
   "cell_type": "markdown",
   "id": "78cfb82b",
   "metadata": {},
   "source": [
    "그런데 이번에는 테스트 문장(test_sentence)를 'i like MeRui'로 만들어서 만든 분류기를 통과시켜보겠다."
   ]
  },
  {
   "cell_type": "code",
   "execution_count": 60,
   "id": "ca937b14",
   "metadata": {},
   "outputs": [
    {
     "data": {
      "text/plain": [
       "'pos'"
      ]
     },
     "execution_count": 60,
     "metadata": {},
     "output_type": "execute_result"
    }
   ],
   "source": [
    "classifier.classify(test_sent_features)"
   ]
  },
  {
   "cell_type": "markdown",
   "id": "496be968",
   "metadata": {},
   "source": [
    "'pos'하다는 결과가 나온다. 물론 겨우 4개의 문장을 가지고 이런 결과가 나오게 유도한 것이지만 목적은 예제이니까요. 만약 분류기를 가동시킬 문장이 많다면 아주 신뢰성 있는 결론을 얻을 수 있을 것이다. 굉장히 'naive'하지만 정말 잘 동작한다는 평가를 받는 것이 Naive Bayes Classifier 이다.\n",
    "\n",
    "### 8-6 Naive Bayes Classifier의 이해 -한글"
   ]
  },
  {
   "cell_type": "code",
   "execution_count": 61,
   "id": "02c518b3",
   "metadata": {},
   "outputs": [],
   "source": [
    "from konlpy.tag import Twitter"
   ]
  },
  {
   "cell_type": "code",
   "execution_count": 62,
   "id": "c1cdb7c9",
   "metadata": {},
   "outputs": [],
   "source": [
    "pos_tagger = Twitter()"
   ]
  },
  {
   "cell_type": "markdown",
   "id": "99f9219a",
   "metadata": {},
   "source": [
    "이제 8-5절의 내용을 한글로도 적용을 시키겠다. 그러나 한글에서는 형태소 분석을 통해야 한다. 일단 형태소 부석을 하지 않으면 어떻게 되는지 확인을 해보자."
   ]
  },
  {
   "cell_type": "code",
   "execution_count": 67,
   "id": "30606cb2",
   "metadata": {},
   "outputs": [],
   "source": [
    "train = [('메리가 좋아', 'pos'),\n",
    "         ('고양이도 좋아', 'pos'),\n",
    "         ('난 수업이 지루해', 'neg'),\n",
    "         ('메리는 이쁜 고양이야','pos'),\n",
    "         ('난 마치고 메리랑 놀거야', 'pos')]"
   ]
  },
  {
   "cell_type": "markdown",
   "id": "5a9fe3b7",
   "metadata": {},
   "source": [
    "이 문장들을 가지고 말뭉치를 만들어보겠다."
   ]
  },
  {
   "cell_type": "code",
   "execution_count": 69,
   "id": "dc565a03",
   "metadata": {},
   "outputs": [
    {
     "data": {
      "text/plain": [
       "{'고양이도',\n",
       " '고양이야',\n",
       " '난',\n",
       " '놀거야',\n",
       " '마치고',\n",
       " '메리가',\n",
       " '메리는',\n",
       " '메리랑',\n",
       " '수업이',\n",
       " '이쁜',\n",
       " '좋아',\n",
       " '지루해'}"
      ]
     },
     "execution_count": 69,
     "metadata": {},
     "output_type": "execute_result"
    }
   ],
   "source": [
    "all_words = set(word.lower() for sentence in train\n",
    "                                   for word in word_tokenize(sentence[0]))\n",
    "\n",
    "all_words"
   ]
  },
  {
   "cell_type": "markdown",
   "id": "548b6ef4",
   "metadata": {},
   "source": [
    "벌써 '고양이도'와 '고양이야', '메리가'와 '메리는'이 다른 단어로 잡힌 것을 볼 수 있다."
   ]
  },
  {
   "cell_type": "code",
   "execution_count": 70,
   "id": "83f49206",
   "metadata": {},
   "outputs": [
    {
     "data": {
      "text/plain": [
       "[({'고양이야': False,\n",
       "   '수업이': False,\n",
       "   '좋아': True,\n",
       "   '지루해': False,\n",
       "   '이쁜': False,\n",
       "   '난': False,\n",
       "   '놀거야': False,\n",
       "   '고양이도': False,\n",
       "   '메리는': False,\n",
       "   '마치고': False,\n",
       "   '메리가': True,\n",
       "   '메리랑': False},\n",
       "  'pos'),\n",
       " ({'고양이야': False,\n",
       "   '수업이': False,\n",
       "   '좋아': True,\n",
       "   '지루해': False,\n",
       "   '이쁜': False,\n",
       "   '난': False,\n",
       "   '놀거야': False,\n",
       "   '고양이도': True,\n",
       "   '메리는': False,\n",
       "   '마치고': False,\n",
       "   '메리가': False,\n",
       "   '메리랑': False},\n",
       "  'pos'),\n",
       " ({'고양이야': False,\n",
       "   '수업이': True,\n",
       "   '좋아': False,\n",
       "   '지루해': True,\n",
       "   '이쁜': False,\n",
       "   '난': True,\n",
       "   '놀거야': False,\n",
       "   '고양이도': False,\n",
       "   '메리는': False,\n",
       "   '마치고': False,\n",
       "   '메리가': False,\n",
       "   '메리랑': False},\n",
       "  'neg'),\n",
       " ({'고양이야': True,\n",
       "   '수업이': False,\n",
       "   '좋아': False,\n",
       "   '지루해': False,\n",
       "   '이쁜': True,\n",
       "   '난': False,\n",
       "   '놀거야': False,\n",
       "   '고양이도': False,\n",
       "   '메리는': True,\n",
       "   '마치고': False,\n",
       "   '메리가': False,\n",
       "   '메리랑': False},\n",
       "  'pos'),\n",
       " ({'고양이야': False,\n",
       "   '수업이': False,\n",
       "   '좋아': False,\n",
       "   '지루해': False,\n",
       "   '이쁜': False,\n",
       "   '난': True,\n",
       "   '놀거야': True,\n",
       "   '고양이도': False,\n",
       "   '메리는': False,\n",
       "   '마치고': True,\n",
       "   '메리가': False,\n",
       "   '메리랑': True},\n",
       "  'pos')]"
      ]
     },
     "execution_count": 70,
     "metadata": {},
     "output_type": "execute_result"
    }
   ],
   "source": [
    "t = [({word: (word in word_tokenize(x[0])) for word in all_words}, x[1])\n",
    "                                                for x in train]\n",
    "t"
   ]
  },
  {
   "cell_type": "markdown",
   "id": "1865aa20",
   "metadata": {},
   "source": [
    "그러면 동일 과정을 거친 후,"
   ]
  },
  {
   "cell_type": "code",
   "execution_count": 84,
   "id": "e0c21cd9",
   "metadata": {},
   "outputs": [
    {
     "name": "stdout",
     "output_type": "stream",
     "text": [
      "Most Informative Features\n",
      "                       난 = True              neg : pos    =      2.5 : 1.0\n",
      "                      좋아 = False             neg : pos    =      1.5 : 1.0\n",
      "                    고양이도 = False             neg : pos    =      1.1 : 1.0\n",
      "                    고양이야 = False             neg : pos    =      1.1 : 1.0\n",
      "                     놀거야 = False             neg : pos    =      1.1 : 1.0\n",
      "                     마치고 = False             neg : pos    =      1.1 : 1.0\n",
      "                     메리가 = False             neg : pos    =      1.1 : 1.0\n",
      "                     메리는 = False             neg : pos    =      1.1 : 1.0\n",
      "                     메리랑 = False             neg : pos    =      1.1 : 1.0\n",
      "                      이쁜 = False             neg : pos    =      1.1 : 1.0\n"
     ]
    }
   ],
   "source": [
    "classifier = nltk.NaiveBayesClassifier.train(t)\n",
    "classifier.show_most_informative_features()"
   ]
  },
  {
   "cell_type": "markdown",
   "id": "efb4863a",
   "metadata": {},
   "source": [
    "만들어진 분류기의 동작을 장담하기 어렵다."
   ]
  },
  {
   "cell_type": "code",
   "execution_count": 85,
   "id": "debc7a42",
   "metadata": {},
   "outputs": [],
   "source": [
    "test_sentence = '난 수업이 마치면 메리랑 놀거야'"
   ]
  },
  {
   "cell_type": "markdown",
   "id": "fceee847",
   "metadata": {},
   "source": [
    "긍정적인 결과가 나와야 할 것 같은 위 테스트 문장을 적용해 보겠다."
   ]
  },
  {
   "cell_type": "code",
   "execution_count": 89,
   "id": "8ccb870e",
   "metadata": {},
   "outputs": [
    {
     "data": {
      "text/plain": [
       "{'고양이야': False,\n",
       " '수업이': True,\n",
       " '좋아': False,\n",
       " '지루해': False,\n",
       " '이쁜': False,\n",
       " '난': True,\n",
       " '놀거야': True,\n",
       " '고양이도': False,\n",
       " '메리는': False,\n",
       " '마치고': False,\n",
       " '메리가': False,\n",
       " '메리랑': True}"
      ]
     },
     "execution_count": 89,
     "metadata": {},
     "output_type": "execute_result"
    }
   ],
   "source": [
    "test_sent_features = {word.lower():\n",
    "                                 (word in word_tokenize(test_sentence.lower()))\n",
    "                                 for word in all_words}\n",
    "\n",
    "test_sent_features"
   ]
  },
  {
   "cell_type": "markdown",
   "id": "f80478d9",
   "metadata": {},
   "source": [
    "그러면 다음과 같이 부정적(neg)이라고 나타난다."
   ]
  },
  {
   "cell_type": "code",
   "execution_count": 90,
   "id": "74f4ae92",
   "metadata": {},
   "outputs": [
    {
     "data": {
      "text/plain": [
       "'neg'"
      ]
     },
     "execution_count": 90,
     "metadata": {},
     "output_type": "execute_result"
    }
   ],
   "source": [
    "classifier.classify(test_sent_features)"
   ]
  },
  {
   "cell_type": "markdown",
   "id": "c15b92a4",
   "metadata": {},
   "source": [
    "결국 한글을 다룰 때는 형태소 분석이 필요하다."
   ]
  },
  {
   "cell_type": "code",
   "execution_count": 91,
   "id": "05d934e3",
   "metadata": {},
   "outputs": [],
   "source": [
    "def tokenize(doc):\n",
    "    return['/'.join(t) for t in pos_tagger.pos(doc, norm=True, stem=True)]"
   ]
  },
  {
   "cell_type": "markdown",
   "id": "c69d10c2",
   "metadata": {},
   "source": [
    "8-1절에서 소개한 Lucy Park 님에 따르면 위 함수처럼 태그를 붙여주는 것이 유리하다고 한다. 위 코드의 tokenize 함수를 사용해서 train 문장을 분석한다."
   ]
  },
  {
   "cell_type": "code",
   "execution_count": 92,
   "id": "34bfc8e9",
   "metadata": {},
   "outputs": [
    {
     "data": {
      "text/plain": [
       "[(['메리/Noun', '가/Josa', '좋다/Adjective'], 'pos'),\n",
       " (['고양이/Noun', '도/Josa', '좋다/Adjective'], 'pos'),\n",
       " (['난/Noun', '수업/Noun', '이/Josa', '지루하다/Adjective'], 'neg'),\n",
       " (['메리/Noun', '는/Josa', '이쁘다/Adjective', '고양이/Noun', '야/Josa'], 'pos'),\n",
       " (['난/Noun', '마치/Noun', '고/Josa', '메리/Noun', '랑/Josa', '놀다/Verb'], 'pos')]"
      ]
     },
     "execution_count": 92,
     "metadata": {},
     "output_type": "execute_result"
    }
   ],
   "source": [
    "train_docs = [(tokenize(row[0]), row[1]) for row in train]\n",
    "train_docs"
   ]
  },
  {
   "cell_type": "markdown",
   "id": "eef6f447",
   "metadata": {},
   "source": [
    "그리고 이렇게"
   ]
  },
  {
   "cell_type": "code",
   "execution_count": 93,
   "id": "2a00e1f7",
   "metadata": {},
   "outputs": [
    {
     "data": {
      "text/plain": [
       "['메리/Noun',\n",
       " '가/Josa',\n",
       " '좋다/Adjective',\n",
       " '고양이/Noun',\n",
       " '도/Josa',\n",
       " '좋다/Adjective',\n",
       " '난/Noun',\n",
       " '수업/Noun',\n",
       " '이/Josa',\n",
       " '지루하다/Adjective',\n",
       " '메리/Noun',\n",
       " '는/Josa',\n",
       " '이쁘다/Adjective',\n",
       " '고양이/Noun',\n",
       " '야/Josa',\n",
       " '난/Noun',\n",
       " '마치/Noun',\n",
       " '고/Josa',\n",
       " '메리/Noun',\n",
       " '랑/Josa',\n",
       " '놀다/Verb']"
      ]
     },
     "execution_count": 93,
     "metadata": {},
     "output_type": "execute_result"
    }
   ],
   "source": [
    "tokens = [t for d in train_docs for t in d[0]]\n",
    "tokens"
   ]
  },
  {
   "cell_type": "markdown",
   "id": "1a578af3",
   "metadata": {},
   "source": [
    "전체 말뭉치도 만들었다."
   ]
  },
  {
   "cell_type": "code",
   "execution_count": 94,
   "id": "5f37563b",
   "metadata": {},
   "outputs": [],
   "source": [
    "def term_exists(doc):\n",
    "    return {word: (word in set(doc)) for word in tokens}"
   ]
  },
  {
   "cell_type": "markdown",
   "id": "4305cc7a",
   "metadata": {},
   "source": [
    "말뭉치에 있는 단어가 있는지 아닌지를 구분하는 함수를 만들어서 train 문장에 적용한다. 조사(Josa)인지 명사(Noun)인지 구분이 잘 되어 있어서 판독하기 좋다."
   ]
  },
  {
   "cell_type": "code",
   "execution_count": 95,
   "id": "0a375e40",
   "metadata": {},
   "outputs": [
    {
     "data": {
      "text/plain": [
       "[({'메리/Noun': True,\n",
       "   '가/Josa': True,\n",
       "   '좋다/Adjective': True,\n",
       "   '고양이/Noun': False,\n",
       "   '도/Josa': False,\n",
       "   '난/Noun': False,\n",
       "   '수업/Noun': False,\n",
       "   '이/Josa': False,\n",
       "   '지루하다/Adjective': False,\n",
       "   '는/Josa': False,\n",
       "   '이쁘다/Adjective': False,\n",
       "   '야/Josa': False,\n",
       "   '마치/Noun': False,\n",
       "   '고/Josa': False,\n",
       "   '랑/Josa': False,\n",
       "   '놀다/Verb': False},\n",
       "  'pos'),\n",
       " ({'메리/Noun': False,\n",
       "   '가/Josa': False,\n",
       "   '좋다/Adjective': True,\n",
       "   '고양이/Noun': True,\n",
       "   '도/Josa': True,\n",
       "   '난/Noun': False,\n",
       "   '수업/Noun': False,\n",
       "   '이/Josa': False,\n",
       "   '지루하다/Adjective': False,\n",
       "   '는/Josa': False,\n",
       "   '이쁘다/Adjective': False,\n",
       "   '야/Josa': False,\n",
       "   '마치/Noun': False,\n",
       "   '고/Josa': False,\n",
       "   '랑/Josa': False,\n",
       "   '놀다/Verb': False},\n",
       "  'pos'),\n",
       " ({'메리/Noun': False,\n",
       "   '가/Josa': False,\n",
       "   '좋다/Adjective': False,\n",
       "   '고양이/Noun': False,\n",
       "   '도/Josa': False,\n",
       "   '난/Noun': True,\n",
       "   '수업/Noun': True,\n",
       "   '이/Josa': True,\n",
       "   '지루하다/Adjective': True,\n",
       "   '는/Josa': False,\n",
       "   '이쁘다/Adjective': False,\n",
       "   '야/Josa': False,\n",
       "   '마치/Noun': False,\n",
       "   '고/Josa': False,\n",
       "   '랑/Josa': False,\n",
       "   '놀다/Verb': False},\n",
       "  'neg'),\n",
       " ({'메리/Noun': True,\n",
       "   '가/Josa': False,\n",
       "   '좋다/Adjective': False,\n",
       "   '고양이/Noun': True,\n",
       "   '도/Josa': False,\n",
       "   '난/Noun': False,\n",
       "   '수업/Noun': False,\n",
       "   '이/Josa': False,\n",
       "   '지루하다/Adjective': False,\n",
       "   '는/Josa': True,\n",
       "   '이쁘다/Adjective': True,\n",
       "   '야/Josa': True,\n",
       "   '마치/Noun': False,\n",
       "   '고/Josa': False,\n",
       "   '랑/Josa': False,\n",
       "   '놀다/Verb': False},\n",
       "  'pos'),\n",
       " ({'메리/Noun': True,\n",
       "   '가/Josa': False,\n",
       "   '좋다/Adjective': False,\n",
       "   '고양이/Noun': False,\n",
       "   '도/Josa': False,\n",
       "   '난/Noun': True,\n",
       "   '수업/Noun': False,\n",
       "   '이/Josa': False,\n",
       "   '지루하다/Adjective': False,\n",
       "   '는/Josa': False,\n",
       "   '이쁘다/Adjective': False,\n",
       "   '야/Josa': False,\n",
       "   '마치/Noun': True,\n",
       "   '고/Josa': True,\n",
       "   '랑/Josa': True,\n",
       "   '놀다/Verb': True},\n",
       "  'pos')]"
      ]
     },
     "execution_count": 95,
     "metadata": {},
     "output_type": "execute_result"
    }
   ],
   "source": [
    "train_xy = [(term_exists(d), c) for d,c in train_docs]\n",
    "train_xy"
   ]
  },
  {
   "cell_type": "markdown",
   "id": "674b0fcc",
   "metadata": {},
   "source": [
    "이제 분류기를 동작시키겠다."
   ]
  },
  {
   "cell_type": "code",
   "execution_count": 96,
   "id": "0f818444",
   "metadata": {},
   "outputs": [],
   "source": [
    "classifier = nltk.NaiveBayesClassifier.train(train_xy)"
   ]
  },
  {
   "cell_type": "markdown",
   "id": "0cfa58cf",
   "metadata": {},
   "source": [
    "그리고 나서 형태소 분석을 안 했을 때 부정되었던 문장을 다시 가지고 테스트 하겠다."
   ]
  },
  {
   "cell_type": "code",
   "execution_count": 97,
   "id": "797a4a7c",
   "metadata": {},
   "outputs": [],
   "source": [
    "test_sentence = [(\"난 수업이 마치면 메리랑 놀거야\")]"
   ]
  },
  {
   "cell_type": "markdown",
   "id": "69a73c9d",
   "metadata": {},
   "source": [
    "그리고 역시 동일하게 형태소 분석한다."
   ]
  },
  {
   "cell_type": "code",
   "execution_count": 98,
   "id": "17bf8d6c",
   "metadata": {},
   "outputs": [
    {
     "data": {
      "text/plain": [
       "[('난', 'Noun'),\n",
       " ('수업', 'Noun'),\n",
       " ('이', 'Josa'),\n",
       " ('마치', 'Noun'),\n",
       " ('면', 'Josa'),\n",
       " ('메리', 'Noun'),\n",
       " ('랑', 'Josa'),\n",
       " ('놀거야', 'Verb')]"
      ]
     },
     "execution_count": 98,
     "metadata": {},
     "output_type": "execute_result"
    }
   ],
   "source": [
    "test_docs = pos_tagger.pos(test_sentence[0])\n",
    "test_docs"
   ]
  },
  {
   "cell_type": "code",
   "execution_count": 99,
   "id": "aedf7232",
   "metadata": {},
   "outputs": [
    {
     "data": {
      "text/plain": [
       "{('난', 'Noun'): False,\n",
       " ('수업', 'Noun'): False,\n",
       " ('이', 'Josa'): False,\n",
       " ('마치', 'Noun'): False,\n",
       " ('면', 'Josa'): False,\n",
       " ('메리', 'Noun'): False,\n",
       " ('랑', 'Josa'): False,\n",
       " ('놀거야', 'Verb'): False}"
      ]
     },
     "execution_count": 99,
     "metadata": {},
     "output_type": "execute_result"
    }
   ],
   "source": [
    "test_sent_features = {word: (word in tokens) for word in test_docs}\n",
    "test_sent_features"
   ]
  },
  {
   "cell_type": "markdown",
   "id": "fec5c7d1",
   "metadata": {},
   "source": [
    "이제 결과를 보겠다."
   ]
  },
  {
   "cell_type": "code",
   "execution_count": 100,
   "id": "7b848fba",
   "metadata": {},
   "outputs": [
    {
     "data": {
      "text/plain": [
       "'pos'"
      ]
     },
     "execution_count": 100,
     "metadata": {},
     "output_type": "execute_result"
    }
   ],
   "source": [
    "classifier.classify(test_sent_features)"
   ]
  },
  {
   "cell_type": "markdown",
   "id": "92765af3",
   "metadata": {},
   "source": [
    "예상대로, 정확하게는 의도한 대로 긍정(pos)의 의ㅣ가 잘 드러났다.\n",
    "\n",
    "### 8-7 문장의 유사도 측정하기\n",
    "\n",
    "앞 절에서 간략하게 분류에 대해 이야기 했다. 그러나 지도학습이어서 미리 정답을 알고 있어야 한다. 이번 절에서는 많은 문장 혹은 문서들 중에서 유사한 문장을 찾아내는 방법에 대해 설명하겠다. 만약 어떤 문장을 벡터로 표현할 수 있다면 벡터 간 거리를 구하는 방법으로 정말 손쉽게 해결할 수 있다."
   ]
  },
  {
   "cell_type": "code",
   "execution_count": 101,
   "id": "234d2b8e",
   "metadata": {},
   "outputs": [],
   "source": [
    "from sklearn.feature_extraction.text import CountVectorizer"
   ]
  },
  {
   "cell_type": "code",
   "execution_count": 102,
   "id": "1a5b57b2",
   "metadata": {},
   "outputs": [],
   "source": [
    "vectorizer = CountVectorizer(min_df = 1)"
   ]
  },
  {
   "cell_type": "markdown",
   "id": "ea3bc449",
   "metadata": {},
   "source": [
    "먼저 scikit learn에서 텍스트 특징(feature)을 추출하는 모듈에서 CountVectorizer라는 함수를 import 한다."
   ]
  },
  {
   "cell_type": "code",
   "execution_count": 103,
   "id": "cab0b160",
   "metadata": {},
   "outputs": [],
   "source": [
    "contents = ['메리랑 놀러가고 싶지만 바쁜데 어떻하죠?',\n",
    "            '메리는 공원에서 산책하고 노는 것을 싫어해요',\n",
    "           '메리는 공원에서 노는 것도 싫어해요. 이상해요.',\n",
    "           '먼 곳으로 여행을 떠나고 싶은데 너무 바빠서 그러질 못하고 있어요']"
   ]
  },
  {
   "cell_type": "markdown",
   "id": "14fb5b32",
   "metadata": {},
   "source": [
    "그리고 유사한 문장을 연습용으로 사용하겠습니다. 실제로는 아주 많으 문장을 대상으로 해야 하지만 지금은 그저 절차를 연습하는 과정이니까요."
   ]
  },
  {
   "cell_type": "code",
   "execution_count": 104,
   "id": "826f0ef9",
   "metadata": {},
   "outputs": [
    {
     "data": {
      "text/plain": [
       "['것도',\n",
       " '것을',\n",
       " '곳으로',\n",
       " '공원에서',\n",
       " '그러질',\n",
       " '너무',\n",
       " '노는',\n",
       " '놀러가고',\n",
       " '떠나고',\n",
       " '메리는',\n",
       " '메리랑',\n",
       " '못하고',\n",
       " '바빠서',\n",
       " '바쁜데',\n",
       " '산책하고',\n",
       " '싫어해요',\n",
       " '싶은데',\n",
       " '싶지만',\n",
       " '어떻하죠',\n",
       " '여행을',\n",
       " '이상해요',\n",
       " '있어요']"
      ]
     },
     "execution_count": 104,
     "metadata": {},
     "output_type": "execute_result"
    }
   ],
   "source": [
    "X = vectorizer.fit_transform(contents)\n",
    "vectorizer.get_feature_names()"
   ]
  },
  {
   "cell_type": "markdown",
   "id": "82a52078",
   "metadata": {},
   "source": [
    "첫 문장을 예로 들면 단어들을 feature로 잡게 된다. 문제는 메리랑과 메리는을 구분하는 것이다. 일단 이 상태에서 문장이 어떻게 벡터로 표현되었는지는 그림 8-19에서 나타난다. 첫 열이 8번 행에서 처음으로 1이 나타나는데 그것은 놀러가고라는 단어를 의미한다. 거기서부터 두 단어 건너서 세 번째 단어 자리에서 또 1이 나타나는데 그것은 메미랑을 의미한다."
   ]
  },
  {
   "cell_type": "markdown",
   "id": "73c28600",
   "metadata": {},
   "source": [
    "이제 좀 더 한글 문장에 대한 벡터화를 합리적으로 진행해 보자."
   ]
  },
  {
   "cell_type": "code",
   "execution_count": 105,
   "id": "012a2d2a",
   "metadata": {},
   "outputs": [],
   "source": [
    "from konlpy.tag import Twitter\n",
    "t = Twitter()"
   ]
  },
  {
   "cell_type": "markdown",
   "id": "93fa26c8",
   "metadata": {},
   "source": [
    "KoNLPy의 Twitter를 이용해서 형태소 분석을 한 결과를 token으로 두자."
   ]
  },
  {
   "cell_type": "code",
   "execution_count": 107,
   "id": "7ed3b1f3",
   "metadata": {},
   "outputs": [
    {
     "data": {
      "text/plain": [
       "[['메리', '랑', '놀러', '가고', '싶지만', '바쁜데', '어떻하죠', '?'],\n",
       " ['메리', '는', '공원', '에서', '산책', '하고', '노', '는', '것', '을', '싫어해요'],\n",
       " ['메리', '는', '공원', '에서', '노', '는', '것', '도', '싫어해요', '.', '이상해요', '.'],\n",
       " ['먼',\n",
       "  '곳',\n",
       "  '으로',\n",
       "  '여행',\n",
       "  '을',\n",
       "  '떠나고',\n",
       "  '싶은데',\n",
       "  '너무',\n",
       "  '바빠서',\n",
       "  '그러질',\n",
       "  '못',\n",
       "  '하고',\n",
       "  '있어요']]"
      ]
     },
     "execution_count": 107,
     "metadata": {},
     "output_type": "execute_result"
    }
   ],
   "source": [
    "contents_tokens = [t.morphs(row) for row in contents]\n",
    "contents_tokens"
   ]
  },
  {
   "cell_type": "markdown",
   "id": "2b6c8f0c",
   "metadata": {},
   "source": [
    "이제는 '메리랑','메리는'을 '메리'로 분리해서 같은 단어로 보는 것을 볼 수 있다. 형태소 분석을 한 후 띄어쓰기로 구분하고 그것 자체를 하나의 문장(sentence)으로 만들어서 scikit learn의 vectorizer 함수에서 사용하기 편하게 편집한다."
   ]
  },
  {
   "cell_type": "code",
   "execution_count": 109,
   "id": "6d570370",
   "metadata": {},
   "outputs": [
    {
     "data": {
      "text/plain": [
       "[' 메리 랑 놀러 가고 싶지만 바쁜데 어떻하죠 ?',\n",
       " ' 메리 는 공원 에서 산책 하고 노 는 것 을 싫어해요',\n",
       " ' 메리 는 공원 에서 노 는 것 도 싫어해요 . 이상해요 .',\n",
       " ' 먼 곳 으로 여행 을 떠나고 싶은데 너무 바빠서 그러질 못 하고 있어요']"
      ]
     },
     "execution_count": 109,
     "metadata": {},
     "output_type": "execute_result"
    }
   ],
   "source": [
    "contents_for_vectorize = []\n",
    "for content in contents_tokens:\n",
    "    sentence = ''\n",
    "    for word in content:\n",
    "        sentence = sentence + ' ' + word\n",
    "        \n",
    "    contents_for_vectorize.append(sentence)\n",
    "    \n",
    "contents_for_vectorize"
   ]
  },
  {
   "cell_type": "markdown",
   "id": "b77f3feb",
   "metadata": {},
   "source": [
    "그리고 feature를 찾도록 하자."
   ]
  },
  {
   "cell_type": "code",
   "execution_count": 110,
   "id": "9946563f",
   "metadata": {},
   "outputs": [
    {
     "data": {
      "text/plain": [
       "(4, 20)"
      ]
     },
     "execution_count": 110,
     "metadata": {},
     "output_type": "execute_result"
    }
   ],
   "source": [
    "X = vectorizer.fit_transform(contents_for_vectorize)\n",
    "num_samples, num_features = X.shape\n",
    "num_samples, num_features"
   ]
  },
  {
   "cell_type": "markdown",
   "id": "79c9a24f",
   "metadata": {},
   "source": [
    "이렇게 잡은 feature를 확인해 보기 위해 다음과 같이 작성한다."
   ]
  },
  {
   "cell_type": "code",
   "execution_count": 111,
   "id": "a02c16d5",
   "metadata": {},
   "outputs": [
    {
     "data": {
      "text/plain": [
       "['가고',\n",
       " '공원',\n",
       " '그러질',\n",
       " '너무',\n",
       " '놀러',\n",
       " '떠나고',\n",
       " '메리',\n",
       " '바빠서',\n",
       " '바쁜데',\n",
       " '산책',\n",
       " '싫어해요',\n",
       " '싶은데',\n",
       " '싶지만',\n",
       " '어떻하죠',\n",
       " '에서',\n",
       " '여행',\n",
       " '으로',\n",
       " '이상해요',\n",
       " '있어요',\n",
       " '하고']"
      ]
     },
     "execution_count": 111,
     "metadata": {},
     "output_type": "execute_result"
    }
   ],
   "source": [
    "vectorizer.get_feature_names()"
   ]
  },
  {
   "cell_type": "markdown",
   "id": "1352d849",
   "metadata": {},
   "source": [
    "그리고 리스트를 받고 다시 다음과 같이 벡터화 한다."
   ]
  },
  {
   "cell_type": "code",
   "execution_count": 130,
   "id": "6f487cb1",
   "metadata": {},
   "outputs": [
    {
     "data": {
      "text/plain": [
       "array([[1, 0, 0, 0],\n",
       "       [0, 1, 1, 0],\n",
       "       [0, 0, 0, 1],\n",
       "       [0, 0, 0, 1],\n",
       "       [1, 0, 0, 0],\n",
       "       [0, 0, 0, 1],\n",
       "       [1, 1, 1, 0],\n",
       "       [0, 0, 0, 1],\n",
       "       [1, 0, 0, 0],\n",
       "       [0, 1, 0, 0],\n",
       "       [0, 1, 1, 0],\n",
       "       [0, 0, 0, 1],\n",
       "       [1, 0, 0, 0],\n",
       "       [1, 0, 0, 0],\n",
       "       [0, 1, 1, 0],\n",
       "       [0, 0, 0, 1],\n",
       "       [0, 0, 0, 1],\n",
       "       [0, 0, 1, 0],\n",
       "       [0, 0, 0, 1],\n",
       "       [0, 1, 0, 1]])"
      ]
     },
     "execution_count": 130,
     "metadata": {},
     "output_type": "execute_result"
    }
   ],
   "source": [
    "X.toarray().transpose()"
   ]
  },
  {
   "cell_type": "code",
   "execution_count": 141,
   "id": "c189d162",
   "metadata": {},
   "outputs": [
    {
     "data": {
      "text/plain": [
       "(4, 20)"
      ]
     },
     "execution_count": 141,
     "metadata": {},
     "output_type": "execute_result"
    }
   ],
   "source": [
    "X = vectorizer.fit_transform(contents_for_vectorize)\n",
    "num_samples, num_features = X.shape\n",
    "num_samples, num_features"
   ]
  },
  {
   "cell_type": "markdown",
   "id": "536b1daf",
   "metadata": {},
   "source": [
    "이제 새로운 문장이 있으면 그 문장을 동일한 과정으로 벡터화해서 각 벡터들 사이의 거리를 구하면 된다."
   ]
  },
  {
   "cell_type": "code",
   "execution_count": 143,
   "id": "bf41af48",
   "metadata": {},
   "outputs": [
    {
     "data": {
      "text/plain": [
       "[' 메리 랑 공원 에서 산책 하고 놀고 싶어요']"
      ]
     },
     "execution_count": 143,
     "metadata": {},
     "output_type": "execute_result"
    }
   ],
   "source": [
    "new_post = ['메리랑 공원에서 산책하고 놀고 싶어요']\n",
    "new_post_tokens = [t.morphs(row) for row in new_post]\n",
    "\n",
    "new_post_for_vectorize = []\n",
    "\n",
    "for content in new_post_tokens:\n",
    "    sentence = ''\n",
    "    for word in content:\n",
    "        sentence = sentence + ' ' + word\n",
    "        \n",
    "    new_post_for_vectorize.append(sentence)\n",
    "    \n",
    "new_post_for_vectorize"
   ]
  },
  {
   "cell_type": "markdown",
   "id": "fc4534c6",
   "metadata": {},
   "source": [
    "새로운 문장은 '메리랑 공원에서 산책하고 놀고 싶어요' 입니다. 이 문장도 위와 동일한 과정을 거쳐 벡터화 시키자."
   ]
  },
  {
   "cell_type": "code",
   "execution_count": 145,
   "id": "e5c95999",
   "metadata": {},
   "outputs": [],
   "source": [
    "new_post_vec = vectorizer.transform(new_post_for_vectorize)\n"
   ]
  },
  {
   "cell_type": "code",
   "execution_count": 146,
   "id": "44a92546",
   "metadata": {},
   "outputs": [
    {
     "data": {
      "text/plain": [
       "array([[0, 1, 0, 0, 0, 0, 1, 0, 0, 1, 0, 0, 0, 0, 1, 0, 0, 0, 0, 1]])"
      ]
     },
     "execution_count": 146,
     "metadata": {},
     "output_type": "execute_result"
    }
   ],
   "source": [
    "new_post_vec.toarray()"
   ]
  },
  {
   "cell_type": "markdown",
   "id": "27212882",
   "metadata": {},
   "source": [
    "이제 새로운 문장(new_post_vec)과 비교해야 할 문장(contents)들 각각에 대해 거리를 구하면 된다."
   ]
  },
  {
   "cell_type": "code",
   "execution_count": 147,
   "id": "453ca6db",
   "metadata": {},
   "outputs": [],
   "source": [
    "import scipy as sp\n",
    "\n",
    "def dist_raw(v1, v2):\n",
    "    delta = v1 - v2\n",
    "    return sp.linalg.norm(delta.toarray())\n"
   ]
  },
  {
   "cell_type": "markdown",
   "id": "5b74bdcf",
   "metadata": {},
   "source": [
    "그렇게 하기 위해 두 벡터의 차르 구하고 난 결과의 norm을 구하는 함수를 만들었다."
   ]
  },
  {
   "cell_type": "code",
   "execution_count": 148,
   "id": "3ae4431e",
   "metadata": {},
   "outputs": [
    {
     "name": "stdout",
     "output_type": "stream",
     "text": [
      "== Post 0 with dist=3.00   : 메리랑 놀러가고 싶지만 바쁜데 어떻하죠?\n",
      "== Post 1 with dist=1.00   : 메리는 공원에서 산책하고 노는 것을 싫어해요\n",
      "== Post 2 with dist=2.00   : 메리는 공원에서 노는 것도 싫어해요. 이상해요.\n",
      "== Post 3 with dist=3.46   : 먼 곳으로 여행을 떠나고 싶은데 너무 바빠서 그러질 못하고 있어요\n"
     ]
    }
   ],
   "source": [
    "best_doc = None\n",
    "best_dist = 65535\n",
    "best_i = None\n",
    "\n",
    "for i in range(0, num_samples):\n",
    "    post_vec = X.getrow(i)\n",
    "    d = dist_raw(post_vec, new_post_vec)\n",
    "    \n",
    "    print(\"== Post %i with dist=%.2f   : %s\" %(i,d,contents[i]))\n",
    "    \n",
    "    if d<best_dist:\n",
    "        best_dist = d\n",
    "        best_i = i"
   ]
  },
  {
   "cell_type": "markdown",
   "id": "f7fdd739",
   "metadata": {},
   "source": [
    "이렇게 해서 각 문장과 새로운 문장의 거리를 구했다. 결과는 위와 같다."
   ]
  },
  {
   "cell_type": "code",
   "execution_count": 150,
   "id": "3f9e1ed9",
   "metadata": {},
   "outputs": [
    {
     "name": "stdout",
     "output_type": "stream",
     "text": [
      "Best post is 1, dist = 1.00\n",
      "--> ['메리랑 공원에서 산책하고 놀고 싶어요']\n",
      "---> 메리는 공원에서 산책하고 노는 것을 싫어해요\n"
     ]
    }
   ],
   "source": [
    "print(\"Best post is %i, dist = %.2f\" % (best_i, best_dist))\n",
    "print('-->', new_post)\n",
    "print('--->', contents[best_i])"
   ]
  },
  {
   "cell_type": "markdown",
   "id": "b315ec48",
   "metadata": {},
   "source": [
    "그랬더니 '메리랑 공원에서 산책하고 놀고 싶어요'라는 문장과 주어진 4개의 문장(contents)중에서 가장 흡사한 문장으로는 '메리는 공원에서 산책하고 노는 것을 싫어해요'가 잡혔다. 문장의 의미는 반대지만 소속된 단어들의 조합을 보면 타당해 보인다."
   ]
  },
  {
   "cell_type": "code",
   "execution_count": 156,
   "id": "d43b3325",
   "metadata": {},
   "outputs": [
    {
     "name": "stdout",
     "output_type": "stream",
     "text": [
      "[[1 0 0 0 1 0 1 0 1 0 0 0 1 1 0 0 0 0 0 0]]\n",
      "[[0 1 0 0 0 0 1 0 0 1 1 0 0 0 1 0 0 0 0 1]]\n",
      "[[0 1 0 0 0 0 1 0 0 0 1 0 0 0 1 0 0 1 0 0]]\n",
      "[[0 0 1 1 0 1 0 1 0 0 0 1 0 0 0 1 1 0 1 1]]\n",
      "--------------\n",
      "[[0 1 0 0 0 0 1 0 0 1 0 0 0 0 1 0 0 0 0 1]]\n"
     ]
    }
   ],
   "source": [
    "for i in range(0,len(contents)):\n",
    "    print(X.getrow(i).toarray())\n",
    " \n",
    "print('--------------')\n",
    "print(new_post_vec.toarray())"
   ]
  },
  {
   "cell_type": "markdown",
   "id": "35463043",
   "metadata": {},
   "source": [
    "벡터화된 결과를 한 번 보면 4개의 contents 변수에 저장된 문장과 새로운 문장이 형태소 분석 후 벡터화된 결과를 확인할 수 있다. 이제 거리를 구해보자."
   ]
  },
  {
   "cell_type": "code",
   "execution_count": 157,
   "id": "e941f26a",
   "metadata": {},
   "outputs": [],
   "source": [
    "def dist_norm(v1, v2):\n",
    "    v1_normalized = v1 / sp.linalg.norm(v1.toarray())\n",
    "    v2_normalized = v2 / sp.linalg.norm(v2.toarray())\n",
    "    \n",
    "    delta = v1_normalized - v2_normalized\n",
    "    \n",
    "    return sp.linalg.norm(delta.toarray())"
   ]
  },
  {
   "cell_type": "markdown",
   "id": "be380284",
   "metadata": {},
   "source": [
    "각 벡터의 norm을 나눠준 후 거리를 구하도록 함수를 만들자."
   ]
  },
  {
   "cell_type": "code",
   "execution_count": 158,
   "id": "0f279ec5",
   "metadata": {},
   "outputs": [
    {
     "name": "stdout",
     "output_type": "stream",
     "text": [
      "== Post 0 with dist=1.28   : 메리랑 놀러가고 싶지만 바쁜데 어떻하죠?\n",
      "== Post 1 with dist=0.42   : 메리는 공원에서 산책하고 노는 것을 싫어해요\n",
      "== Post 2 with dist=0.89   : 메리는 공원에서 노는 것도 싫어해요. 이상해요.\n",
      "== Post 3 with dist=1.30   : 먼 곳으로 여행을 떠나고 싶은데 너무 바빠서 그러질 못하고 있어요\n"
     ]
    }
   ],
   "source": [
    "best_doc = None\n",
    "best_dist = 65535\n",
    "best_i = None\n",
    "\n",
    "for i in range (0, num_samples):\n",
    "    post_vec = X.getrow(i)\n",
    "    d = dist_norm(post_vec, new_post_vec)\n",
    "    \n",
    "    print(\"== Post %i with dist=%.2f   : %s\" %(i,d,contents[i]))\n",
    "    \n",
    "    if d < best_dist:\n",
    "        best_dist = d\n",
    "        best_i = i"
   ]
  },
  {
   "cell_type": "markdown",
   "id": "1cca7991",
   "metadata": {},
   "source": [
    "거리를 구한 결과가 조금 달라져 있는 것을 알 수 있다. 그러나 가장 가까운 문장을 찾는 것에 대한 결과는 크게 다르지 않다."
   ]
  },
  {
   "cell_type": "code",
   "execution_count": 159,
   "id": "35e007aa",
   "metadata": {},
   "outputs": [
    {
     "name": "stdout",
     "output_type": "stream",
     "text": [
      "Best post is 1, dist = 0.42\n",
      "--> ['메리랑 공원에서 산책하고 놀고 싶어요']\n",
      "----> 메리는 공원에서 산책하고 노는 것을 싫어해요\n"
     ]
    }
   ],
   "source": [
    "print(\"Best post is %i, dist = %.2f\" % (best_i, best_dist))\n",
    "print('-->', new_post)\n",
    "print('---->', contents[best_i])"
   ]
  },
  {
   "cell_type": "markdown",
   "id": "c04e6e32",
   "metadata": {},
   "source": [
    "여전히 같은 결과가 나타난다. 이제 tfidf라는 개념을 적용하려 한다. tf(term frequency)와 idf(inverse document frequency)는 텍스트 마이닝에서 사용하는 일종의 단어별로 부과하는 가중치 이다. tf는 어떤 단어가 문서 내에서 자주 등장할수록 중요도가 높을 것으로 보는 것이다. 그리고 idf는 비교하는 모든 문서에 만약 같은 단어가 있다면 이 단어는 핵심 어휘일지는 모르지만 문서 간의 비교에서는 중요한 단어가 아니라는 뜻으로 보는 것이다."
   ]
  },
  {
   "cell_type": "code",
   "execution_count": 179,
   "id": "65b82319",
   "metadata": {},
   "outputs": [],
   "source": [
    "def tfidf(t, d, D):\n",
    "    tf = float(d.count(t)) / sum(d.count(w) for w in set(d))\n",
    "    idf = sp.log( float(len(D))/(len([doc for doc in D if t in doc])) )\n",
    "    return tf * idf"
   ]
  },
  {
   "cell_type": "markdown",
   "id": "b2c103bd",
   "metadata": {},
   "source": [
    "그 원리로 tfidf 함수를 만들었다."
   ]
  },
  {
   "cell_type": "code",
   "execution_count": 180,
   "id": "765ee0f8",
   "metadata": {},
   "outputs": [
    {
     "name": "stdout",
     "output_type": "stream",
     "text": [
      "0.0\n",
      "0.27031007207210955\n",
      "0.0\n",
      "0.13515503603605478\n",
      "0.3662040962227032\n"
     ]
    },
    {
     "name": "stderr",
     "output_type": "stream",
     "text": [
      "/home/ubuntu/.local/lib/python3.6/site-packages/ipykernel_launcher.py:3: DeprecationWarning: scipy.log is deprecated and will be removed in SciPy 2.0.0, use numpy.lib.scimath.log instead\n",
      "  This is separate from the ipykernel package so we can avoid doing imports until\n"
     ]
    }
   ],
   "source": [
    "a, abb, abc = ['a'], ['a','b','b'],['a','b','c']\n",
    "D = [a, abb, abc]\n",
    "\n",
    "print(tfidf('a', a, D))\n",
    "print(tfidf('b', abb, D))\n",
    "print(tfidf('a', abc, D))\n",
    "print(tfidf('b', abc, D))\n",
    "print(tfidf('c', abc, D))"
   ]
  },
  {
   "cell_type": "markdown",
   "id": "fbeca08f",
   "metadata": {},
   "source": [
    "연습용 코드를 보면 문장에 a가 있기 때문에 idf의 결과는 0이다. 코드 결과를 보면  tf와 idf를 이해하기 편할 것이다. 이제 두 값을 곱한 것을 tfidf라고 하는 함수로 수정해서 사용하면 되지만 import 할때 scikit learn의 TfidfVectorizer를 import 해서 사용하면 된다."
   ]
  },
  {
   "cell_type": "code",
   "execution_count": 183,
   "id": "c482ec57",
   "metadata": {},
   "outputs": [],
   "source": [
    "from sklearn.feature_extraction.text import TfidfVectorizer\n",
    "vectorizer = TfidfVectorizer(min_df=1, decode_error='ignore')"
   ]
  },
  {
   "cell_type": "markdown",
   "id": "924762ed",
   "metadata": {},
   "source": [
    "Counter Vectorizer를 import할 때와 동일하게 import 한다."
   ]
  },
  {
   "cell_type": "code",
   "execution_count": 184,
   "id": "98b5c714",
   "metadata": {},
   "outputs": [
    {
     "data": {
      "text/plain": [
       "(4, 20)"
      ]
     },
     "execution_count": 184,
     "metadata": {},
     "output_type": "execute_result"
    }
   ],
   "source": [
    "contents_tokens = [t.morphs(row) for row in contents]\n",
    "\n",
    "contents_for_vectorize = []\n",
    "\n",
    "for content in contents_tokens:\n",
    "    sentence = ''\n",
    "    for word in content:\n",
    "        sentence = sentence + ' ' + word\n",
    "        \n",
    "    contents_for_vectorize.append(sentence)\n",
    "    \n",
    "X = vectorizer.fit_transform(contents_for_vectorize)\n",
    "num_samples, num_features = X.shape\n",
    "num_samples, num_features"
   ]
  },
  {
   "cell_type": "markdown",
   "id": "0c807901",
   "metadata": {},
   "source": [
    "역시 동일하게 contents 문장들을 다듬자."
   ]
  },
  {
   "cell_type": "code",
   "execution_count": 185,
   "id": "eb212f14",
   "metadata": {},
   "outputs": [
    {
     "data": {
      "text/plain": [
       "['가고',\n",
       " '공원',\n",
       " '그러질',\n",
       " '너무',\n",
       " '놀러',\n",
       " '떠나고',\n",
       " '메리',\n",
       " '바빠서',\n",
       " '바쁜데',\n",
       " '산책',\n",
       " '싫어해요',\n",
       " '싶은데',\n",
       " '싶지만',\n",
       " '어떻하죠',\n",
       " '에서',\n",
       " '여행',\n",
       " '으로',\n",
       " '이상해요',\n",
       " '있어요',\n",
       " '하고']"
      ]
     },
     "execution_count": 185,
     "metadata": {},
     "output_type": "execute_result"
    }
   ],
   "source": [
    "vectorizer.get_feature_names()"
   ]
  },
  {
   "cell_type": "markdown",
   "id": "b25caf01",
   "metadata": {},
   "source": [
    "이제 만들어진 말뭉치를 확인해보면 위와 같다."
   ]
  },
  {
   "cell_type": "code",
   "execution_count": 186,
   "id": "b29acb8b",
   "metadata": {},
   "outputs": [
    {
     "data": {
      "text/plain": [
       "['  근처  공원  에  메리  랑  놀러  가고  싶네요']"
      ]
     },
     "execution_count": 186,
     "metadata": {},
     "output_type": "execute_result"
    }
   ],
   "source": [
    "new_post = ['근처 공원에 메리랑 놀러가고 싶네요']\n",
    "new_post_tokens = [t.morphs(row) for row in new_post]\n",
    "\n",
    "new_post_for_vectorize = []\n",
    "\n",
    "for content in new_post_tokens:\n",
    "    sentence = ''\n",
    "    for word in content:\n",
    "        sentence = sentence + '  ' + word\n",
    "        \n",
    "    new_post_for_vectorize.append(sentence)\n",
    "        \n",
    "new_post_for_vectorize"
   ]
  },
  {
   "cell_type": "markdown",
   "id": "2e7690fb",
   "metadata": {},
   "source": [
    "계속 사용하고 있는 테스트용 문장을 비교해 보자."
   ]
  },
  {
   "cell_type": "code",
   "execution_count": 187,
   "id": "c1be0766",
   "metadata": {},
   "outputs": [],
   "source": [
    "new_post_vec = vectorizer.transform(new_post_for_vectorize)"
   ]
  },
  {
   "cell_type": "markdown",
   "id": "6e143401",
   "metadata": {},
   "source": [
    "다른 결과와 비교하면 재미있는 결과를 얻을 수 있다."
   ]
  },
  {
   "cell_type": "code",
   "execution_count": 188,
   "id": "09ab6eb3",
   "metadata": {
    "scrolled": true
   },
   "outputs": [
    {
     "name": "stdout",
     "output_type": "stream",
     "text": [
      "== Post 0 with dist=0.90   : 메리랑 놀러가고 싶지만 바쁜데 어떻하죠?\n",
      "== Post 1 with dist=1.18   : 메리는 공원에서 산책하고 노는 것을 싫어해요\n",
      "== Post 2 with dist=1.16   : 메리는 공원에서 노는 것도 싫어해요. 이상해요.\n",
      "== Post 3 with dist=1.41   : 먼 곳으로 여행을 떠나고 싶은데 너무 바빠서 그러질 못하고 있어요\n",
      "Best post is 0, dist=0.90\n",
      "--> ['근처 공원에 메리랑 놀러가고 싶네요']\n",
      "----> 메리랑 놀러가고 싶지만 바쁜데 어떻하죠?\n"
     ]
    }
   ],
   "source": [
    "best_doc = None\n",
    "best_dist = 65535\n",
    "best_i = None\n",
    "\n",
    "for i in range(0, num_samples):\n",
    "    post_vec = X.getrow(i)\n",
    "    d = dist_norm(post_vec, new_post_vec)\n",
    "    \n",
    "    print(\"== Post %i with dist=%.2f   : %s\" %(i,d,contents[i]))\n",
    "    \n",
    "    if d<  best_dist:\n",
    "        best_dist = d\n",
    "        best_i= i\n",
    "        \n",
    "print(\"Best post is %i, dist=%.2f\" % (best_i, best_dist))\n",
    "print('-->', new_post)\n",
    "print('---->', contents[best_i])"
   ]
  },
  {
   "cell_type": "markdown",
   "id": "12a70c19",
   "metadata": {},
   "source": [
    "아직은 네 문장으로 짧고 이를 바로 적용하기는 부족하지만 자연어 처리를 입문이라는 이 채의 선격에 맞춰 잠시 소개하는 것이라고 생각하면 된다.\n",
    "\n"
   ]
  },
  {
   "cell_type": "markdown",
   "id": "d35f6825",
   "metadata": {},
   "source": [
    "혹시 여기서부터 시작하시는 독자를 위해서 특별히 그래프에 대한 설정을 수행한다. 그리고 주소창에 있는 주소 부분을 약간 편집해서 접급해야 할 주소를 정한다."
   ]
  },
  {
   "cell_type": "markdown",
   "id": "1ea6edb9",
   "metadata": {},
   "source": [
    "- 출처: 파이썬으로 데이터 주무르기"
   ]
  }
 ],
 "metadata": {
  "kernelspec": {
   "display_name": "Python 3",
   "language": "python",
   "name": "python3"
  },
  "language_info": {
   "codemirror_mode": {
    "name": "ipython",
    "version": 3
   },
   "file_extension": ".py",
   "mimetype": "text/x-python",
   "name": "python",
   "nbconvert_exporter": "python",
   "pygments_lexer": "ipython3",
   "version": "3.6.9"
  }
 },
 "nbformat": 4,
 "nbformat_minor": 5
}
