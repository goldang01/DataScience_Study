{
 "cells": [
  {
   "cell_type": "markdown",
   "id": "7a6754a5",
   "metadata": {},
   "source": [
    "<center>\n",
    "<img src=\"https://image.aladin.co.kr/product/12609/37/cover500/k372532974_1.jpg\" width=\"200\" height=\"200\"><br>\n",
    "</center>\n",
    "\n",
    "\n",
    " - Github: [PinkWink](https://github.com/PinkWink/DataScience)"
   ]
  },
  {
   "cell_type": "markdown",
   "id": "4054d97e",
   "metadata": {},
   "source": [
    "### 8장 자연어 처리 시작하기\n",
    "\n",
    "- 한글 자연어 처리기초\n",
    "- 워드 클라우드\n",
    "- 육아휴직 관련 법안에 대한 분석\n",
    "- Naive Bayes Classifier의 이해 - 영문\n",
    "- Naive Bayes Classifier의 이해 - 한글\n",
    "- 문장의 유사도 측정하기\n",
    "- 여자친구 선물 고르기\n"
   ]
  },
  {
   "cell_type": "markdown",
   "id": "734c7d67",
   "metadata": {},
   "source": [
    "#### 8-2 한글 자연어 처리 기초\n",
    "\n"
   ]
  },
  {
   "cell_type": "code",
   "execution_count": 1,
   "id": "3bf420c2",
   "metadata": {},
   "outputs": [],
   "source": [
    "from konlpy.tag import Kkma\n",
    "kkma = Kkma()"
   ]
  },
  {
   "cell_type": "markdown",
   "id": "14a61451",
   "metadata": {},
   "source": [
    "먼저 꼬꼬마 모듈을 사용할 수 있게 한다."
   ]
  },
  {
   "cell_type": "code",
   "execution_count": 3,
   "id": "b8439034",
   "metadata": {},
   "outputs": [
    {
     "data": {
      "text/plain": [
       "['한국어 분석을 시작합니다', '재미있어요~~']"
      ]
     },
     "execution_count": 3,
     "metadata": {},
     "output_type": "execute_result"
    }
   ],
   "source": [
    "kkma.sentences('한국어 분석을 시작합니다 재미있어요~~')"
   ]
  },
  {
   "cell_type": "markdown",
   "id": "82307664",
   "metadata": {},
   "source": [
    "그리고 문장(sentences)분석을 한다. ~~시작합니다 재미있어요 ~~ 에서 마침표(.)가 없어도 두 개의 문장으로 구분한다."
   ]
  },
  {
   "cell_type": "code",
   "execution_count": 5,
   "id": "1c8c88a5",
   "metadata": {},
   "outputs": [
    {
     "data": {
      "text/plain": [
       "['한국어', '분석']"
      ]
     },
     "execution_count": 5,
     "metadata": {},
     "output_type": "execute_result"
    }
   ],
   "source": [
    "kkma.nouns('한국어 분석을 시작합니다 재미있어요~~')"
   ]
  },
  {
   "cell_type": "markdown",
   "id": "670acd49",
   "metadata": {},
   "source": [
    "명사(nouns)분석도 수행합니다."
   ]
  },
  {
   "cell_type": "code",
   "execution_count": 6,
   "id": "b2099b3a",
   "metadata": {},
   "outputs": [
    {
     "data": {
      "text/plain": [
       "[('한국어', 'NNG'),\n",
       " ('분석', 'NNG'),\n",
       " ('을', 'JKO'),\n",
       " ('시작하', 'VV'),\n",
       " ('ㅂ니다', 'EFN'),\n",
       " ('재미있', 'VA'),\n",
       " ('어요', 'EFN'),\n",
       " ('~~', 'SW')]"
      ]
     },
     "execution_count": 6,
     "metadata": {},
     "output_type": "execute_result"
    }
   ],
   "source": [
    "kkma.pos('한국어 분석을 시작합니다 재미있어요~~')"
   ]
  },
  {
   "cell_type": "markdown",
   "id": "32355ebf",
   "metadata": {},
   "source": [
    "현태소(pos)분석도 수행합니다. 한글은 영어와 달리 단어의 형태 변화가 많아서 영어처럼 쉽게 접근하기 어렵다. 그래서 최소한의 의미 단위인 현태소로 언어를 분석하는 것이 일반적이다."
   ]
  },
  {
   "cell_type": "code",
   "execution_count": 7,
   "id": "a76d9118",
   "metadata": {},
   "outputs": [],
   "source": [
    "from konlpy.tag import Hannanum\n",
    "hannanum = Hannanum()"
   ]
  },
  {
   "cell_type": "markdown",
   "id": "2b7af5ae",
   "metadata": {},
   "source": [
    "이번에는 한나눔(Hannanum)을 사용해 보겠다."
   ]
  },
  {
   "cell_type": "code",
   "execution_count": 8,
   "id": "f37cc5f8",
   "metadata": {},
   "outputs": [
    {
     "data": {
      "text/plain": [
       "['한국어', '분석', '시작']"
      ]
     },
     "execution_count": 8,
     "metadata": {},
     "output_type": "execute_result"
    }
   ],
   "source": [
    "hannanum.nouns('한국어 분석을 시작합니다 재미있어요~~')"
   ]
  },
  {
   "cell_type": "markdown",
   "id": "b6a0b9f7",
   "metadata": {},
   "source": [
    "한나눔의 명사 분석은 꼬꼬마와는 약간 다른 결과를 가져온다."
   ]
  },
  {
   "cell_type": "code",
   "execution_count": 10,
   "id": "795efbb6",
   "metadata": {},
   "outputs": [
    {
     "data": {
      "text/plain": [
       "['한국어', '분석', '을', '시작', '하', 'ㅂ니다', '재미있', '어요', '~~']"
      ]
     },
     "execution_count": 10,
     "metadata": {},
     "output_type": "execute_result"
    }
   ],
   "source": [
    "hannanum.morphs('한국어 분석을 시작합니다 재미있어요~~')"
   ]
  },
  {
   "cell_type": "markdown",
   "id": "1bf450d8",
   "metadata": {},
   "source": [
    "한나눔의 형태소 분석 결과 이다."
   ]
  },
  {
   "cell_type": "code",
   "execution_count": 11,
   "id": "cecce99e",
   "metadata": {},
   "outputs": [
    {
     "data": {
      "text/plain": [
       "[('한국어', 'N'),\n",
       " ('분석', 'N'),\n",
       " ('을', 'J'),\n",
       " ('시작', 'N'),\n",
       " ('하', 'X'),\n",
       " ('ㅂ니다', 'E'),\n",
       " ('재미있', 'P'),\n",
       " ('어요', 'E'),\n",
       " ('~~', 'S')]"
      ]
     },
     "execution_count": 11,
     "metadata": {},
     "output_type": "execute_result"
    }
   ],
   "source": [
    "hannanum.pos('한국어 분석을 시작합니다 재미있어요~~')"
   ]
  },
  {
   "cell_type": "markdown",
   "id": "f11b1461",
   "metadata": {},
   "source": [
    "이번에는 트위터(Twitter) 분석이다."
   ]
  },
  {
   "cell_type": "code",
   "execution_count": 12,
   "id": "5bf8c733",
   "metadata": {},
   "outputs": [
    {
     "name": "stderr",
     "output_type": "stream",
     "text": [
      "/home/ubuntu/.local/lib/python3.6/site-packages/konlpy/tag/_okt.py:16: UserWarning: \"Twitter\" has changed to \"Okt\" since KoNLPy v0.4.5.\n",
      "  warn('\"Twitter\" has changed to \"Okt\" since KoNLPy v0.4.5.')\n"
     ]
    }
   ],
   "source": [
    "from konlpy.tag import Twitter\n",
    "t = Twitter()"
   ]
  },
  {
   "cell_type": "code",
   "execution_count": 14,
   "id": "a61aab4b",
   "metadata": {},
   "outputs": [
    {
     "data": {
      "text/plain": [
       "['한국어', '분석', '시작']"
      ]
     },
     "execution_count": 14,
     "metadata": {},
     "output_type": "execute_result"
    }
   ],
   "source": [
    "t.nouns('한국어 분석을 시작합니다 재미있어요~~')"
   ]
  },
  {
   "cell_type": "code",
   "execution_count": 16,
   "id": "d106c2c3",
   "metadata": {},
   "outputs": [
    {
     "data": {
      "text/plain": [
       "['한국어', '분석', '을', '시작', '합니다', '재미있어요', '~~']"
      ]
     },
     "execution_count": 16,
     "metadata": {},
     "output_type": "execute_result"
    }
   ],
   "source": [
    "t.morphs('한국어 분석을 시작합니다 재미있어요~~')"
   ]
  },
  {
   "cell_type": "markdown",
   "id": "f42fca6f",
   "metadata": {},
   "source": [
    "역시 미세한 차이를 가지고 있다."
   ]
  },
  {
   "cell_type": "code",
   "execution_count": 17,
   "id": "ffec5777",
   "metadata": {},
   "outputs": [
    {
     "data": {
      "text/plain": [
       "[('한국어', 'Noun'),\n",
       " ('분석', 'Noun'),\n",
       " ('을', 'Josa'),\n",
       " ('시작', 'Noun'),\n",
       " ('합니다', 'Verb'),\n",
       " ('재미있어요', 'Adjective'),\n",
       " ('~~', 'Punctuation')]"
      ]
     },
     "execution_count": 17,
     "metadata": {},
     "output_type": "execute_result"
    }
   ],
   "source": [
    "t.pos('한국어 분석을 시작합니다 재미있어요~~')"
   ]
  },
  {
   "cell_type": "markdown",
   "id": "2b11a56a",
   "metadata": {},
   "source": [
    "### 8-3 워드 클라우드\n",
    "\n",
    "워드 클라우드(world cloud)는 자주 나타나는 단어를 크게 보여줌으로써 직관적으로 텍스트를 알리는데 도움을 준다. 파이썬에서 사용할 수 있는 워드 클라우드도 몇가지 있습니다만 여기서는 그중 하나를 소개할까 한다. 설치는 이미 8-1절에서 했으니 워드 클라우드 공식 Github에서 배포하는 튜토리얼을 일부 수정한 것을 우리도 튜토리얼하고 다음 절로 넘어가도록 하겠다."
   ]
  },
  {
   "cell_type": "code",
   "execution_count": 22,
   "id": "6741fc7f",
   "metadata": {},
   "outputs": [],
   "source": [
    "#!pip3 install wordcloud"
   ]
  },
  {
   "cell_type": "code",
   "execution_count": 25,
   "id": "1647c8b4",
   "metadata": {},
   "outputs": [],
   "source": [
    "from wordcloud import WordCloud, STOPWORDS\n",
    "import numpy as np\n",
    "from PIL import Image"
   ]
  },
  {
   "cell_type": "markdown",
   "id": "be3bf984",
   "metadata": {},
   "source": [
    "먼저 필요한 몇몇 모듈을 import 한다. 그리고 이상한 나라의 앨리스 영문 버전을 다운 받아서 data폴더에 저장하고 읽는다. 또한 앨리그 그림도 저장하자."
   ]
  },
  {
   "cell_type": "code",
   "execution_count": 26,
   "id": "c1bcc9d5",
   "metadata": {},
   "outputs": [],
   "source": [
    "text = open('./data/09. alice.txt').read()\n",
    "alice_mask = np.array(Image.open('./data/09. alice_mask.png'))\n",
    "\n",
    "stopwords = set(STOPWORDS)\n",
    "stopwords.add(\"said\")"
   ]
  },
  {
   "cell_type": "markdown",
   "id": "2ed346c3",
   "metadata": {},
   "source": [
    "앨리스 소설에는 said 라는 단어가 많이 등장하는 모양이다. 이 단어는 카운트에서 제거하도록 하자."
   ]
  },
  {
   "cell_type": "code",
   "execution_count": 28,
   "id": "2ba4f7f2",
   "metadata": {},
   "outputs": [
    {
     "name": "stdout",
     "output_type": "stream",
     "text": [
      "Unknown system... sorry~~~~\n"
     ]
    }
   ],
   "source": [
    "import matplotlib.pyplot as plt\n",
    "import platform\n",
    "\n",
    "path = \"c:/Windows/Fonts/malgun.ttf\"\n",
    "from matplotlib import font_manager, rc\n",
    "if platform.system() == 'Darwin':\n",
    "    re('font', family='AppleGothic')\n",
    "elif platform.system() == 'Windows':\n",
    "        font_name = font_manager.FontProperties(fname=path).get_name()\n",
    "        rc('font', family = font_name)\n",
    "else:\n",
    "        print('Unknown system... sorry~~~~')\n",
    "        \n",
    "%matplotlib inline"
   ]
  },
  {
   "cell_type": "markdown",
   "id": "bc55ed2c",
   "metadata": {},
   "source": [
    "언제나 하는 matplotlib에서 한글 폰트를 설정했다."
   ]
  },
  {
   "cell_type": "code",
   "execution_count": 30,
   "id": "4c45b12a",
   "metadata": {},
   "outputs": [
    {
     "data": {
      "image/png": "[encoded data removed]",
      "text/plain": [
       "<Figure size 576x576 with 1 Axes>"
      ]
     },
     "metadata": {
      "needs_background": "light"
     },
     "output_type": "display_data"
    }
   ],
   "source": [
    "plt.figure(figsize=(8,8))\n",
    "plt.imshow(alice_mask, cmap=plt.cm.gray, interpolation='bilinear')\n",
    "plt.axis('off')\n",
    "plt.show()"
   ]
  },
  {
   "cell_type": "code",
   "execution_count": null,
   "id": "fd8d593e",
   "metadata": {},
   "outputs": [],
   "source": []
  }
 ],
 "metadata": {
  "kernelspec": {
   "display_name": "Python 3",
   "language": "python",
   "name": "python3"
  },
  "language_info": {
   "codemirror_mode": {
    "name": "ipython",
    "version": 3
   },
   "file_extension": ".py",
   "mimetype": "text/x-python",
   "name": "python",
   "nbconvert_exporter": "python",
   "pygments_lexer": "ipython3",
   "version": "3.6.9"
  }
 },
 "nbformat": 4,
 "nbformat_minor": 5
}
